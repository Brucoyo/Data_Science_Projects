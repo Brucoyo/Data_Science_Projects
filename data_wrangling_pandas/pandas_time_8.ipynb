{
 "cells": [
  {
   "cell_type": "code",
   "execution_count": 2,
   "metadata": {},
   "outputs": [],
   "source": [
    "import pandas as pd\n",
    "import numpy as np"
   ]
  },
  {
   "cell_type": "markdown",
   "metadata": {},
   "source": [
    "## Datetime"
   ]
  },
  {
   "cell_type": "code",
   "execution_count": 8,
   "metadata": {},
   "outputs": [
    {
     "data": {
      "text/plain": [
       "datetime.datetime(2018, 12, 11, 23, 24, 55, 895371)"
      ]
     },
     "execution_count": 8,
     "metadata": {},
     "output_type": "execute_result"
    }
   ],
   "source": [
    "from  datetime  import  datetime\n",
    "now = datetime.now()\n",
    "now"
   ]
  },
  {
   "cell_type": "code",
   "execution_count": 3,
   "metadata": {},
   "outputs": [
    {
     "data": {
      "text/plain": [
       "2018"
      ]
     },
     "execution_count": 3,
     "metadata": {},
     "output_type": "execute_result"
    }
   ],
   "source": [
    "now.year"
   ]
  },
  {
   "cell_type": "code",
   "execution_count": 6,
   "metadata": {},
   "outputs": [],
   "source": [
    "delta  =  datetime ( 2018 ,  12 ,  11 )  -  datetime ( 2018 ,  9 ,  1 ,  8 ,  15 )"
   ]
  },
  {
   "cell_type": "code",
   "execution_count": 7,
   "metadata": {},
   "outputs": [
    {
     "data": {
      "text/plain": [
       "100"
      ]
     },
     "execution_count": 7,
     "metadata": {},
     "output_type": "execute_result"
    }
   ],
   "source": [
    "delta.days"
   ]
  },
  {
   "cell_type": "code",
   "execution_count": 8,
   "metadata": {},
   "outputs": [
    {
     "data": {
      "text/plain": [
       "56700"
      ]
     },
     "execution_count": 8,
     "metadata": {},
     "output_type": "execute_result"
    }
   ],
   "source": [
    "delta.seconds"
   ]
  },
  {
   "cell_type": "markdown",
   "metadata": {},
   "source": [
    "## timedelta"
   ]
  },
  {
   "cell_type": "code",
   "execution_count": 12,
   "metadata": {},
   "outputs": [
    {
     "data": {
      "text/plain": [
       "datetime.datetime(2018, 12, 11, 0, 0)"
      ]
     },
     "execution_count": 12,
     "metadata": {},
     "output_type": "execute_result"
    }
   ],
   "source": [
    "from  datetime  import  timedelta\n",
    "start  =  datetime ( 2018 ,  9 ,  1 )\n",
    "\n",
    "#Use arithmetics on time\n",
    "start  +  timedelta ( 101 )"
   ]
  },
  {
   "cell_type": "markdown",
   "metadata": {},
   "source": [
    "## Converting Between String and Datetime"
   ]
  },
  {
   "cell_type": "code",
   "execution_count": 22,
   "metadata": {},
   "outputs": [
    {
     "data": {
      "text/plain": [
       "'2019-12-21 00:00:00'"
      ]
     },
     "execution_count": 22,
     "metadata": {},
     "output_type": "execute_result"
    }
   ],
   "source": [
    "stamp = datetime(2019, 12, 21)\n",
    "str(stamp)"
   ]
  },
  {
   "cell_type": "code",
   "execution_count": 23,
   "metadata": {},
   "outputs": [
    {
     "data": {
      "text/plain": [
       "'2019- 12- 21'"
      ]
     },
     "execution_count": 23,
     "metadata": {},
     "output_type": "execute_result"
    }
   ],
   "source": [
    "stamp.strftime('%Y- %m- %d')"
   ]
  },
  {
   "cell_type": "code",
   "execution_count": 19,
   "metadata": {},
   "outputs": [
    {
     "data": {
      "text/plain": [
       "'2019- 21- 12'"
      ]
     },
     "execution_count": 19,
     "metadata": {},
     "output_type": "execute_result"
    }
   ],
   "source": [
    "stamp.strftime('%Y- %d- %m')"
   ]
  },
  {
   "cell_type": "code",
   "execution_count": 16,
   "metadata": {},
   "outputs": [
    {
     "data": {
      "text/plain": [
       "datetime.datetime(2011, 1, 3, 0, 0)"
      ]
     },
     "execution_count": 16,
     "metadata": {},
     "output_type": "execute_result"
    }
   ],
   "source": [
    "value  =  '2011-01-03'\n",
    "datetime.strptime(value ,'%Y-%m-%d')"
   ]
  },
  {
   "cell_type": "code",
   "execution_count": 24,
   "metadata": {},
   "outputs": [
    {
     "data": {
      "text/plain": [
       "datetime.datetime(2011, 7, 6, 0, 0)"
      ]
     },
     "execution_count": 24,
     "metadata": {},
     "output_type": "execute_result"
    }
   ],
   "source": [
    "datestrs = '7/6/2011'\n",
    "datetime.strptime (datestrs, '%m/%d/%Y')"
   ]
  },
  {
   "cell_type": "markdown",
   "metadata": {},
   "source": [
    "### parsing strings to time"
   ]
  },
  {
   "cell_type": "code",
   "execution_count": 25,
   "metadata": {},
   "outputs": [
    {
     "data": {
      "text/plain": [
       "datetime.datetime(2011, 1, 3, 0, 0)"
      ]
     },
     "execution_count": 25,
     "metadata": {},
     "output_type": "execute_result"
    }
   ],
   "source": [
    "from  dateutil.parser  import  parse\n",
    "parse ( '2011-01-03' )"
   ]
  },
  {
   "cell_type": "code",
   "execution_count": 26,
   "metadata": {},
   "outputs": [
    {
     "data": {
      "text/plain": [
       "datetime.datetime(1997, 1, 31, 22, 45)"
      ]
     },
     "execution_count": 26,
     "metadata": {},
     "output_type": "execute_result"
    }
   ],
   "source": [
    "parse ( 'Jan 31, 1997 10:45 PM' )"
   ]
  },
  {
   "cell_type": "code",
   "execution_count": 27,
   "metadata": {},
   "outputs": [
    {
     "data": {
      "text/plain": [
       "datetime.datetime(2011, 12, 6, 0, 0)"
      ]
     },
     "execution_count": 27,
     "metadata": {},
     "output_type": "execute_result"
    }
   ],
   "source": [
    "parse ( '6/12/2011' ,  dayfirst = True )"
   ]
  },
  {
   "cell_type": "markdown",
   "metadata": {},
   "source": [
    "**Issue with the parse() from python dateutil**"
   ]
  },
  {
   "cell_type": "code",
   "execution_count": 28,
   "metadata": {},
   "outputs": [
    {
     "data": {
      "text/plain": [
       "datetime.datetime(2042, 1, 3, 0, 0)"
      ]
     },
     "execution_count": 28,
     "metadata": {},
     "output_type": "execute_result"
    }
   ],
   "source": [
    "parse ( '42-01-03' )"
   ]
  },
  {
   "cell_type": "markdown",
   "metadata": {},
   "source": [
    "## Pandas datetime "
   ]
  },
  {
   "cell_type": "code",
   "execution_count": 29,
   "metadata": {},
   "outputs": [
    {
     "data": {
      "text/plain": [
       "DatetimeIndex(['2011-07-06 12:00:00', '2011-08-06 00:00:00', 'NaT'], dtype='datetime64[ns]', freq=None)"
      ]
     },
     "execution_count": 29,
     "metadata": {},
     "output_type": "execute_result"
    }
   ],
   "source": [
    "datestrs  =  [ '2011-07-06 12:00:00' ,  '2011-08-06 00:00:00' , None]\n",
    "idx = pd.to_datetime ( datestrs )\n",
    "idx"
   ]
  },
  {
   "cell_type": "code",
   "execution_count": 30,
   "metadata": {},
   "outputs": [
    {
     "data": {
      "text/plain": [
       "NaT"
      ]
     },
     "execution_count": 30,
     "metadata": {},
     "output_type": "execute_result"
    }
   ],
   "source": [
    "idx[2]"
   ]
  },
  {
   "cell_type": "code",
   "execution_count": 31,
   "metadata": {},
   "outputs": [
    {
     "data": {
      "text/plain": [
       "array([False, False,  True])"
      ]
     },
     "execution_count": 31,
     "metadata": {},
     "output_type": "execute_result"
    }
   ],
   "source": [
    "idx.isnull()"
   ]
  },
  {
   "cell_type": "markdown",
   "metadata": {},
   "source": [
    "## Time Series"
   ]
  },
  {
   "cell_type": "code",
   "execution_count": 32,
   "metadata": {},
   "outputs": [],
   "source": [
    "dates = [datetime(2011,1,2),datetime(2011,1,5 ),datetime(2011, 1 ,7 ),\n",
    "         datetime(2011,1,8),datetime(2011,1,10),datetime(2011,1,12)]"
   ]
  },
  {
   "cell_type": "code",
   "execution_count": 34,
   "metadata": {},
   "outputs": [
    {
     "data": {
      "text/plain": [
       "2011-01-02   -0.117439\n",
       "2011-01-05    1.886003\n",
       "2011-01-07    1.165808\n",
       "2011-01-08   -1.344966\n",
       "2011-01-10    1.097109\n",
       "2011-01-12   -0.397375\n",
       "dtype: float64"
      ]
     },
     "execution_count": 34,
     "metadata": {},
     "output_type": "execute_result"
    }
   ],
   "source": [
    "ts  =  pd.Series ( np.random.randn(6), index = dates )\n",
    "ts"
   ]
  },
  {
   "cell_type": "markdown",
   "metadata": {},
   "source": [
    "Under the hood, these datetime  objects have been put in a DatetimeIndex"
   ]
  },
  {
   "cell_type": "code",
   "execution_count": 35,
   "metadata": {},
   "outputs": [
    {
     "data": {
      "text/plain": [
       "DatetimeIndex(['2011-01-02', '2011-01-05', '2011-01-07', '2011-01-08',\n",
       "               '2011-01-10', '2011-01-12'],\n",
       "              dtype='datetime64[ns]', freq=None)"
      ]
     },
     "execution_count": 35,
     "metadata": {},
     "output_type": "execute_result"
    }
   ],
   "source": [
    "ts.index"
   ]
  },
  {
   "cell_type": "markdown",
   "metadata": {},
   "source": [
    "Arithmetic operations between differently indexed time series auto‐ matically align on the dates"
   ]
  },
  {
   "cell_type": "code",
   "execution_count": 37,
   "metadata": {},
   "outputs": [
    {
     "data": {
      "text/plain": [
       "2011-01-02   -0.117439\n",
       "2011-01-07    1.165808\n",
       "2011-01-10    1.097109\n",
       "dtype: float64"
      ]
     },
     "execution_count": 37,
     "metadata": {},
     "output_type": "execute_result"
    }
   ],
   "source": [
    "ts [:: 2 ]"
   ]
  },
  {
   "cell_type": "code",
   "execution_count": 38,
   "metadata": {},
   "outputs": [
    {
     "data": {
      "text/plain": [
       "2011-01-02   -0.234878\n",
       "2011-01-05         NaN\n",
       "2011-01-07    2.331616\n",
       "2011-01-08         NaN\n",
       "2011-01-10    2.194218\n",
       "2011-01-12         NaN\n",
       "dtype: float64"
      ]
     },
     "execution_count": 38,
     "metadata": {},
     "output_type": "execute_result"
    }
   ],
   "source": [
    "ts+ts [:: 2 ]"
   ]
  },
  {
   "cell_type": "markdown",
   "metadata": {},
   "source": [
    "## Slicing time series"
   ]
  },
  {
   "cell_type": "code",
   "execution_count": 39,
   "metadata": {},
   "outputs": [
    {
     "data": {
      "text/plain": [
       "1.0971089762538346"
      ]
     },
     "execution_count": 39,
     "metadata": {},
     "output_type": "execute_result"
    }
   ],
   "source": [
    "ts [ '1/10/2011' ]"
   ]
  },
  {
   "cell_type": "code",
   "execution_count": 40,
   "metadata": {},
   "outputs": [
    {
     "data": {
      "text/plain": [
       "1.0971089762538346"
      ]
     },
     "execution_count": 40,
     "metadata": {},
     "output_type": "execute_result"
    }
   ],
   "source": [
    "ts [ '20110110' ]"
   ]
  },
  {
   "cell_type": "code",
   "execution_count": 44,
   "metadata": {},
   "outputs": [
    {
     "data": {
      "text/plain": [
       "2002-09-22   -0.957844\n",
       "2002-09-23   -0.766700\n",
       "2002-09-24    1.096171\n",
       "2002-09-25   -0.041056\n",
       "2002-09-26    0.495713\n",
       "Freq: D, dtype: float64"
      ]
     },
     "execution_count": 44,
     "metadata": {},
     "output_type": "execute_result"
    }
   ],
   "source": [
    "longer_ts  =  pd.Series ( np . random . randn ( 1000 ), \n",
    "                          index = pd . date_range ( '1/1/2000' ,  periods = 1000 ))\n",
    "longer_ts.tail(5)"
   ]
  },
  {
   "cell_type": "code",
   "execution_count": 47,
   "metadata": {},
   "outputs": [
    {
     "data": {
      "text/plain": [
       "2001-01-01   -0.829594\n",
       "2001-01-02    1.344570\n",
       "2001-01-03   -1.553394\n",
       "2001-01-04    0.801632\n",
       "2001-01-05    0.370775\n",
       "2001-01-06   -0.437142\n",
       "2001-01-07   -1.103523\n",
       "2001-01-08    1.759118\n",
       "2001-01-09   -0.034778\n",
       "2001-01-10   -0.770878\n",
       "2001-01-11    1.194396\n",
       "2001-01-12    0.650146\n",
       "2001-01-13   -1.662119\n",
       "2001-01-14   -0.309571\n",
       "2001-01-15   -0.694618\n",
       "2001-01-16    0.626939\n",
       "2001-01-17   -0.192468\n",
       "2001-01-18    0.032879\n",
       "2001-01-19    0.835725\n",
       "2001-01-20   -0.592038\n",
       "2001-01-21    1.153393\n",
       "2001-01-22    1.431968\n",
       "2001-01-23    2.060851\n",
       "2001-01-24    0.514950\n",
       "2001-01-25    0.571579\n",
       "2001-01-26    0.251708\n",
       "2001-01-27    0.875653\n",
       "2001-01-28   -1.627248\n",
       "2001-01-29    0.131925\n",
       "2001-01-30    0.664507\n",
       "                ...   \n",
       "2001-12-02   -1.768003\n",
       "2001-12-03    0.596754\n",
       "2001-12-04   -1.906354\n",
       "2001-12-05   -0.970195\n",
       "2001-12-06    1.073214\n",
       "2001-12-07   -1.879994\n",
       "2001-12-08   -0.180672\n",
       "2001-12-09    0.267773\n",
       "2001-12-10   -1.158514\n",
       "2001-12-11   -0.039927\n",
       "2001-12-12   -0.088011\n",
       "2001-12-13    0.431101\n",
       "2001-12-14    0.152078\n",
       "2001-12-15    0.617755\n",
       "2001-12-16    0.715567\n",
       "2001-12-17   -0.364150\n",
       "2001-12-18   -1.996030\n",
       "2001-12-19    1.798023\n",
       "2001-12-20    0.517667\n",
       "2001-12-21    1.007420\n",
       "2001-12-22   -0.159762\n",
       "2001-12-23    0.962788\n",
       "2001-12-24   -0.216683\n",
       "2001-12-25   -0.048070\n",
       "2001-12-26    1.499184\n",
       "2001-12-27    1.102334\n",
       "2001-12-28   -0.644092\n",
       "2001-12-29   -1.524772\n",
       "2001-12-30   -0.969484\n",
       "2001-12-31   -0.249460\n",
       "Freq: D, Length: 365, dtype: float64"
      ]
     },
     "execution_count": 47,
     "metadata": {},
     "output_type": "execute_result"
    }
   ],
   "source": [
    "longer_ts['2001']"
   ]
  },
  {
   "cell_type": "code",
   "execution_count": 48,
   "metadata": {},
   "outputs": [
    {
     "data": {
      "text/plain": [
       "2002-02-01   -2.257218\n",
       "2002-02-02   -0.936418\n",
       "2002-02-03   -0.581797\n",
       "2002-02-04    0.344075\n",
       "2002-02-05   -0.740952\n",
       "2002-02-06   -1.822563\n",
       "2002-02-07    1.308292\n",
       "2002-02-08   -0.906242\n",
       "2002-02-09    0.127013\n",
       "2002-02-10   -0.175746\n",
       "2002-02-11    1.300539\n",
       "2002-02-12    0.109031\n",
       "2002-02-13    0.858897\n",
       "2002-02-14   -0.473946\n",
       "2002-02-15   -0.712549\n",
       "2002-02-16   -0.828730\n",
       "2002-02-17    0.288429\n",
       "2002-02-18    0.281335\n",
       "2002-02-19   -0.648191\n",
       "2002-02-20    0.390022\n",
       "2002-02-21    0.407036\n",
       "2002-02-22    1.609332\n",
       "2002-02-23    1.200853\n",
       "2002-02-24   -0.171871\n",
       "2002-02-25    0.316062\n",
       "2002-02-26    0.641806\n",
       "2002-02-27   -0.520172\n",
       "2002-02-28   -2.642871\n",
       "Freq: D, dtype: float64"
      ]
     },
     "execution_count": 48,
     "metadata": {},
     "output_type": "execute_result"
    }
   ],
   "source": [
    "longer_ts['2002-02']"
   ]
  },
  {
   "cell_type": "code",
   "execution_count": 49,
   "metadata": {},
   "outputs": [
    {
     "data": {
      "text/plain": [
       "2002-09-15    1.777349\n",
       "2002-09-16    0.631794\n",
       "2002-09-17   -0.442157\n",
       "2002-09-18    1.052255\n",
       "2002-09-19   -1.006708\n",
       "2002-09-20   -0.888763\n",
       "2002-09-21   -1.420475\n",
       "2002-09-22   -0.957844\n",
       "2002-09-23   -0.766700\n",
       "2002-09-24    1.096171\n",
       "2002-09-25   -0.041056\n",
       "2002-09-26    0.495713\n",
       "Freq: D, dtype: float64"
      ]
     },
     "execution_count": 49,
     "metadata": {},
     "output_type": "execute_result"
    }
   ],
   "source": [
    "longer_ts[datetime(2002,9,15):]"
   ]
  },
  {
   "cell_type": "code",
   "execution_count": 50,
   "metadata": {},
   "outputs": [
    {
     "data": {
      "text/plain": [
       "2002-09-09   -0.023839\n",
       "2002-09-10    0.400384\n",
       "2002-09-11    2.315030\n",
       "2002-09-12    0.901885\n",
       "2002-09-13    2.109120\n",
       "2002-09-14    2.222948\n",
       "2002-09-15    1.777349\n",
       "2002-09-16    0.631794\n",
       "2002-09-17   -0.442157\n",
       "2002-09-18    1.052255\n",
       "2002-09-19   -1.006708\n",
       "2002-09-20   -0.888763\n",
       "Freq: D, dtype: float64"
      ]
     },
     "execution_count": 50,
     "metadata": {},
     "output_type": "execute_result"
    }
   ],
   "source": [
    "longer_ts['2002-9-9':'2002/9/20']"
   ]
  },
  {
   "cell_type": "markdown",
   "metadata": {},
   "source": [
    "## Time series on dataframes"
   ]
  },
  {
   "cell_type": "code",
   "execution_count": 3,
   "metadata": {},
   "outputs": [
    {
     "data": {
      "text/plain": [
       "DatetimeIndex(['2019-01-01', '2019-01-08', '2019-01-15', '2019-01-22',\n",
       "               '2019-01-29', '2019-02-05', '2019-02-12', '2019-02-19',\n",
       "               '2019-02-26', '2019-03-05', '2019-03-12', '2019-03-19',\n",
       "               '2019-03-26', '2019-04-02', '2019-04-09', '2019-04-16',\n",
       "               '2019-04-23', '2019-04-30', '2019-05-07', '2019-05-14',\n",
       "               '2019-05-21', '2019-05-28', '2019-06-04', '2019-06-11',\n",
       "               '2019-06-18', '2019-06-25', '2019-07-02', '2019-07-09',\n",
       "               '2019-07-16', '2019-07-23', '2019-07-30', '2019-08-06',\n",
       "               '2019-08-13', '2019-08-20', '2019-08-27', '2019-09-03',\n",
       "               '2019-09-10', '2019-09-17', '2019-09-24', '2019-10-01',\n",
       "               '2019-10-08', '2019-10-15', '2019-10-22', '2019-10-29',\n",
       "               '2019-11-05', '2019-11-12', '2019-11-19', '2019-11-26',\n",
       "               '2019-12-03', '2019-12-10', '2019-12-17', '2019-12-24',\n",
       "               '2019-12-31', '2020-01-07', '2020-01-14', '2020-01-21',\n",
       "               '2020-01-28', '2020-02-04', '2020-02-11', '2020-02-18',\n",
       "               '2020-02-25', '2020-03-03', '2020-03-10', '2020-03-17',\n",
       "               '2020-03-24', '2020-03-31', '2020-04-07', '2020-04-14',\n",
       "               '2020-04-21', '2020-04-28', '2020-05-05', '2020-05-12',\n",
       "               '2020-05-19', '2020-05-26', '2020-06-02', '2020-06-09',\n",
       "               '2020-06-16', '2020-06-23', '2020-06-30', '2020-07-07',\n",
       "               '2020-07-14', '2020-07-21', '2020-07-28', '2020-08-04',\n",
       "               '2020-08-11', '2020-08-18', '2020-08-25', '2020-09-01',\n",
       "               '2020-09-08', '2020-09-15', '2020-09-22', '2020-09-29',\n",
       "               '2020-10-06', '2020-10-13', '2020-10-20', '2020-10-27',\n",
       "               '2020-11-03', '2020-11-10', '2020-11-17', '2020-11-24'],\n",
       "              dtype='datetime64[ns]', freq='W-TUE')"
      ]
     },
     "execution_count": 3,
     "metadata": {},
     "output_type": "execute_result"
    }
   ],
   "source": [
    "dates2 = pd.date_range('1,1,2019', periods=100 , freq='W-TUE')\n",
    "dates2"
   ]
  },
  {
   "cell_type": "code",
   "execution_count": 4,
   "metadata": {},
   "outputs": [
    {
     "data": {
      "text/html": [
       "<div>\n",
       "<style scoped>\n",
       "    .dataframe tbody tr th:only-of-type {\n",
       "        vertical-align: middle;\n",
       "    }\n",
       "\n",
       "    .dataframe tbody tr th {\n",
       "        vertical-align: top;\n",
       "    }\n",
       "\n",
       "    .dataframe thead th {\n",
       "        text-align: right;\n",
       "    }\n",
       "</style>\n",
       "<table border=\"1\" class=\"dataframe\">\n",
       "  <thead>\n",
       "    <tr style=\"text-align: right;\">\n",
       "      <th></th>\n",
       "      <th>BC</th>\n",
       "      <th>AB</th>\n",
       "      <th>ON</th>\n",
       "      <th>QC</th>\n",
       "    </tr>\n",
       "  </thead>\n",
       "  <tbody>\n",
       "    <tr>\n",
       "      <th>2019-01-01</th>\n",
       "      <td>0.958343</td>\n",
       "      <td>0.140084</td>\n",
       "      <td>0.742973</td>\n",
       "      <td>0.520276</td>\n",
       "    </tr>\n",
       "    <tr>\n",
       "      <th>2019-01-08</th>\n",
       "      <td>0.683839</td>\n",
       "      <td>0.133487</td>\n",
       "      <td>0.914760</td>\n",
       "      <td>0.673614</td>\n",
       "    </tr>\n",
       "    <tr>\n",
       "      <th>2019-01-15</th>\n",
       "      <td>0.165421</td>\n",
       "      <td>0.643793</td>\n",
       "      <td>0.267225</td>\n",
       "      <td>0.037988</td>\n",
       "    </tr>\n",
       "    <tr>\n",
       "      <th>2019-01-22</th>\n",
       "      <td>0.812348</td>\n",
       "      <td>0.754504</td>\n",
       "      <td>0.135546</td>\n",
       "      <td>0.156330</td>\n",
       "    </tr>\n",
       "    <tr>\n",
       "      <th>2019-01-29</th>\n",
       "      <td>0.276116</td>\n",
       "      <td>0.696874</td>\n",
       "      <td>0.101818</td>\n",
       "      <td>0.530066</td>\n",
       "    </tr>\n",
       "    <tr>\n",
       "      <th>2019-02-05</th>\n",
       "      <td>0.424540</td>\n",
       "      <td>0.876333</td>\n",
       "      <td>0.760724</td>\n",
       "      <td>0.440854</td>\n",
       "    </tr>\n",
       "    <tr>\n",
       "      <th>2019-02-12</th>\n",
       "      <td>0.060537</td>\n",
       "      <td>0.007704</td>\n",
       "      <td>0.885062</td>\n",
       "      <td>0.591942</td>\n",
       "    </tr>\n",
       "    <tr>\n",
       "      <th>2019-02-19</th>\n",
       "      <td>0.557457</td>\n",
       "      <td>0.162332</td>\n",
       "      <td>0.777543</td>\n",
       "      <td>0.802119</td>\n",
       "    </tr>\n",
       "    <tr>\n",
       "      <th>2019-02-26</th>\n",
       "      <td>0.293810</td>\n",
       "      <td>0.577668</td>\n",
       "      <td>0.381289</td>\n",
       "      <td>0.269108</td>\n",
       "    </tr>\n",
       "    <tr>\n",
       "      <th>2019-03-05</th>\n",
       "      <td>0.951365</td>\n",
       "      <td>0.187783</td>\n",
       "      <td>0.274313</td>\n",
       "      <td>0.572033</td>\n",
       "    </tr>\n",
       "    <tr>\n",
       "      <th>2019-03-12</th>\n",
       "      <td>0.909822</td>\n",
       "      <td>0.094587</td>\n",
       "      <td>0.562674</td>\n",
       "      <td>0.488636</td>\n",
       "    </tr>\n",
       "    <tr>\n",
       "      <th>2019-03-19</th>\n",
       "      <td>0.100170</td>\n",
       "      <td>0.557778</td>\n",
       "      <td>0.656121</td>\n",
       "      <td>0.805825</td>\n",
       "    </tr>\n",
       "    <tr>\n",
       "      <th>2019-03-26</th>\n",
       "      <td>0.118895</td>\n",
       "      <td>0.903179</td>\n",
       "      <td>0.133615</td>\n",
       "      <td>0.213130</td>\n",
       "    </tr>\n",
       "    <tr>\n",
       "      <th>2019-04-02</th>\n",
       "      <td>0.762188</td>\n",
       "      <td>0.616309</td>\n",
       "      <td>0.414413</td>\n",
       "      <td>0.251110</td>\n",
       "    </tr>\n",
       "    <tr>\n",
       "      <th>2019-04-09</th>\n",
       "      <td>0.870564</td>\n",
       "      <td>0.114147</td>\n",
       "      <td>0.215091</td>\n",
       "      <td>0.305864</td>\n",
       "    </tr>\n",
       "    <tr>\n",
       "      <th>2019-04-16</th>\n",
       "      <td>0.329001</td>\n",
       "      <td>0.600684</td>\n",
       "      <td>0.254155</td>\n",
       "      <td>0.036786</td>\n",
       "    </tr>\n",
       "    <tr>\n",
       "      <th>2019-04-23</th>\n",
       "      <td>0.011036</td>\n",
       "      <td>0.723234</td>\n",
       "      <td>0.914072</td>\n",
       "      <td>0.522628</td>\n",
       "    </tr>\n",
       "    <tr>\n",
       "      <th>2019-04-30</th>\n",
       "      <td>0.563203</td>\n",
       "      <td>0.278933</td>\n",
       "      <td>0.252296</td>\n",
       "      <td>0.503542</td>\n",
       "    </tr>\n",
       "    <tr>\n",
       "      <th>2019-05-07</th>\n",
       "      <td>0.995268</td>\n",
       "      <td>0.284004</td>\n",
       "      <td>0.838464</td>\n",
       "      <td>0.276085</td>\n",
       "    </tr>\n",
       "    <tr>\n",
       "      <th>2019-05-14</th>\n",
       "      <td>0.958454</td>\n",
       "      <td>0.305987</td>\n",
       "      <td>0.946705</td>\n",
       "      <td>0.023118</td>\n",
       "    </tr>\n",
       "    <tr>\n",
       "      <th>2019-05-21</th>\n",
       "      <td>0.684360</td>\n",
       "      <td>0.367712</td>\n",
       "      <td>0.712762</td>\n",
       "      <td>0.647912</td>\n",
       "    </tr>\n",
       "    <tr>\n",
       "      <th>2019-05-28</th>\n",
       "      <td>0.514436</td>\n",
       "      <td>0.340526</td>\n",
       "      <td>0.732959</td>\n",
       "      <td>0.232305</td>\n",
       "    </tr>\n",
       "    <tr>\n",
       "      <th>2019-06-04</th>\n",
       "      <td>0.758317</td>\n",
       "      <td>0.403854</td>\n",
       "      <td>0.042772</td>\n",
       "      <td>0.453002</td>\n",
       "    </tr>\n",
       "    <tr>\n",
       "      <th>2019-06-11</th>\n",
       "      <td>0.785260</td>\n",
       "      <td>0.361093</td>\n",
       "      <td>0.866071</td>\n",
       "      <td>0.660303</td>\n",
       "    </tr>\n",
       "    <tr>\n",
       "      <th>2019-06-18</th>\n",
       "      <td>0.031422</td>\n",
       "      <td>0.881687</td>\n",
       "      <td>0.019963</td>\n",
       "      <td>0.031086</td>\n",
       "    </tr>\n",
       "    <tr>\n",
       "      <th>2019-06-25</th>\n",
       "      <td>0.508432</td>\n",
       "      <td>0.287298</td>\n",
       "      <td>0.908995</td>\n",
       "      <td>0.910265</td>\n",
       "    </tr>\n",
       "    <tr>\n",
       "      <th>2019-07-02</th>\n",
       "      <td>0.801426</td>\n",
       "      <td>0.802490</td>\n",
       "      <td>0.906285</td>\n",
       "      <td>0.884040</td>\n",
       "    </tr>\n",
       "    <tr>\n",
       "      <th>2019-07-09</th>\n",
       "      <td>0.578696</td>\n",
       "      <td>0.890757</td>\n",
       "      <td>0.999995</td>\n",
       "      <td>0.441878</td>\n",
       "    </tr>\n",
       "    <tr>\n",
       "      <th>2019-07-16</th>\n",
       "      <td>0.238991</td>\n",
       "      <td>0.724177</td>\n",
       "      <td>0.201557</td>\n",
       "      <td>0.760173</td>\n",
       "    </tr>\n",
       "    <tr>\n",
       "      <th>2019-07-23</th>\n",
       "      <td>0.580183</td>\n",
       "      <td>0.584209</td>\n",
       "      <td>0.358585</td>\n",
       "      <td>0.532481</td>\n",
       "    </tr>\n",
       "    <tr>\n",
       "      <th>...</th>\n",
       "      <td>...</td>\n",
       "      <td>...</td>\n",
       "      <td>...</td>\n",
       "      <td>...</td>\n",
       "    </tr>\n",
       "    <tr>\n",
       "      <th>2020-05-05</th>\n",
       "      <td>0.866713</td>\n",
       "      <td>0.574417</td>\n",
       "      <td>0.365481</td>\n",
       "      <td>0.186538</td>\n",
       "    </tr>\n",
       "    <tr>\n",
       "      <th>2020-05-12</th>\n",
       "      <td>0.581403</td>\n",
       "      <td>0.994743</td>\n",
       "      <td>0.409043</td>\n",
       "      <td>0.790373</td>\n",
       "    </tr>\n",
       "    <tr>\n",
       "      <th>2020-05-19</th>\n",
       "      <td>0.424992</td>\n",
       "      <td>0.916970</td>\n",
       "      <td>0.548089</td>\n",
       "      <td>0.718270</td>\n",
       "    </tr>\n",
       "    <tr>\n",
       "      <th>2020-05-26</th>\n",
       "      <td>0.125183</td>\n",
       "      <td>0.162828</td>\n",
       "      <td>0.452425</td>\n",
       "      <td>0.821146</td>\n",
       "    </tr>\n",
       "    <tr>\n",
       "      <th>2020-06-02</th>\n",
       "      <td>0.074893</td>\n",
       "      <td>0.617740</td>\n",
       "      <td>0.268926</td>\n",
       "      <td>0.200680</td>\n",
       "    </tr>\n",
       "    <tr>\n",
       "      <th>2020-06-09</th>\n",
       "      <td>0.076244</td>\n",
       "      <td>0.653458</td>\n",
       "      <td>0.741312</td>\n",
       "      <td>0.232825</td>\n",
       "    </tr>\n",
       "    <tr>\n",
       "      <th>2020-06-16</th>\n",
       "      <td>0.686418</td>\n",
       "      <td>0.861940</td>\n",
       "      <td>0.138842</td>\n",
       "      <td>0.961792</td>\n",
       "    </tr>\n",
       "    <tr>\n",
       "      <th>2020-06-23</th>\n",
       "      <td>0.414184</td>\n",
       "      <td>0.604049</td>\n",
       "      <td>0.632874</td>\n",
       "      <td>0.849633</td>\n",
       "    </tr>\n",
       "    <tr>\n",
       "      <th>2020-06-30</th>\n",
       "      <td>0.155461</td>\n",
       "      <td>0.774678</td>\n",
       "      <td>0.925475</td>\n",
       "      <td>0.660057</td>\n",
       "    </tr>\n",
       "    <tr>\n",
       "      <th>2020-07-07</th>\n",
       "      <td>0.128928</td>\n",
       "      <td>0.618141</td>\n",
       "      <td>0.088857</td>\n",
       "      <td>0.616343</td>\n",
       "    </tr>\n",
       "    <tr>\n",
       "      <th>2020-07-14</th>\n",
       "      <td>0.053327</td>\n",
       "      <td>0.478246</td>\n",
       "      <td>0.774477</td>\n",
       "      <td>0.432372</td>\n",
       "    </tr>\n",
       "    <tr>\n",
       "      <th>2020-07-21</th>\n",
       "      <td>0.921403</td>\n",
       "      <td>0.472522</td>\n",
       "      <td>0.634120</td>\n",
       "      <td>0.008731</td>\n",
       "    </tr>\n",
       "    <tr>\n",
       "      <th>2020-07-28</th>\n",
       "      <td>0.953680</td>\n",
       "      <td>0.098717</td>\n",
       "      <td>0.559101</td>\n",
       "      <td>0.521496</td>\n",
       "    </tr>\n",
       "    <tr>\n",
       "      <th>2020-08-04</th>\n",
       "      <td>0.062065</td>\n",
       "      <td>0.985976</td>\n",
       "      <td>0.171523</td>\n",
       "      <td>0.486240</td>\n",
       "    </tr>\n",
       "    <tr>\n",
       "      <th>2020-08-11</th>\n",
       "      <td>0.506540</td>\n",
       "      <td>0.217138</td>\n",
       "      <td>0.225415</td>\n",
       "      <td>0.767861</td>\n",
       "    </tr>\n",
       "    <tr>\n",
       "      <th>2020-08-18</th>\n",
       "      <td>0.942311</td>\n",
       "      <td>0.655711</td>\n",
       "      <td>0.403414</td>\n",
       "      <td>0.381509</td>\n",
       "    </tr>\n",
       "    <tr>\n",
       "      <th>2020-08-25</th>\n",
       "      <td>0.513259</td>\n",
       "      <td>0.781887</td>\n",
       "      <td>0.648971</td>\n",
       "      <td>0.669172</td>\n",
       "    </tr>\n",
       "    <tr>\n",
       "      <th>2020-09-01</th>\n",
       "      <td>0.590973</td>\n",
       "      <td>0.702421</td>\n",
       "      <td>0.004965</td>\n",
       "      <td>0.999628</td>\n",
       "    </tr>\n",
       "    <tr>\n",
       "      <th>2020-09-08</th>\n",
       "      <td>0.773044</td>\n",
       "      <td>0.917072</td>\n",
       "      <td>0.734528</td>\n",
       "      <td>0.729097</td>\n",
       "    </tr>\n",
       "    <tr>\n",
       "      <th>2020-09-15</th>\n",
       "      <td>0.298187</td>\n",
       "      <td>0.413525</td>\n",
       "      <td>0.888911</td>\n",
       "      <td>0.006560</td>\n",
       "    </tr>\n",
       "    <tr>\n",
       "      <th>2020-09-22</th>\n",
       "      <td>0.418618</td>\n",
       "      <td>0.487217</td>\n",
       "      <td>0.448197</td>\n",
       "      <td>0.391009</td>\n",
       "    </tr>\n",
       "    <tr>\n",
       "      <th>2020-09-29</th>\n",
       "      <td>0.957265</td>\n",
       "      <td>0.354686</td>\n",
       "      <td>0.194128</td>\n",
       "      <td>0.030932</td>\n",
       "    </tr>\n",
       "    <tr>\n",
       "      <th>2020-10-06</th>\n",
       "      <td>0.196781</td>\n",
       "      <td>0.947973</td>\n",
       "      <td>0.148090</td>\n",
       "      <td>0.529975</td>\n",
       "    </tr>\n",
       "    <tr>\n",
       "      <th>2020-10-13</th>\n",
       "      <td>0.369991</td>\n",
       "      <td>0.956574</td>\n",
       "      <td>0.791488</td>\n",
       "      <td>0.871893</td>\n",
       "    </tr>\n",
       "    <tr>\n",
       "      <th>2020-10-20</th>\n",
       "      <td>0.057797</td>\n",
       "      <td>0.539319</td>\n",
       "      <td>0.686678</td>\n",
       "      <td>0.504112</td>\n",
       "    </tr>\n",
       "    <tr>\n",
       "      <th>2020-10-27</th>\n",
       "      <td>0.834816</td>\n",
       "      <td>0.585229</td>\n",
       "      <td>0.520815</td>\n",
       "      <td>0.470099</td>\n",
       "    </tr>\n",
       "    <tr>\n",
       "      <th>2020-11-03</th>\n",
       "      <td>0.050792</td>\n",
       "      <td>0.699330</td>\n",
       "      <td>0.356648</td>\n",
       "      <td>0.277251</td>\n",
       "    </tr>\n",
       "    <tr>\n",
       "      <th>2020-11-10</th>\n",
       "      <td>0.714616</td>\n",
       "      <td>0.082487</td>\n",
       "      <td>0.093985</td>\n",
       "      <td>0.863519</td>\n",
       "    </tr>\n",
       "    <tr>\n",
       "      <th>2020-11-17</th>\n",
       "      <td>0.154942</td>\n",
       "      <td>0.372519</td>\n",
       "      <td>0.664746</td>\n",
       "      <td>0.144709</td>\n",
       "    </tr>\n",
       "    <tr>\n",
       "      <th>2020-11-24</th>\n",
       "      <td>0.924304</td>\n",
       "      <td>0.985693</td>\n",
       "      <td>0.929167</td>\n",
       "      <td>0.421107</td>\n",
       "    </tr>\n",
       "  </tbody>\n",
       "</table>\n",
       "<p>100 rows × 4 columns</p>\n",
       "</div>"
      ],
      "text/plain": [
       "                  BC        AB        ON        QC\n",
       "2019-01-01  0.958343  0.140084  0.742973  0.520276\n",
       "2019-01-08  0.683839  0.133487  0.914760  0.673614\n",
       "2019-01-15  0.165421  0.643793  0.267225  0.037988\n",
       "2019-01-22  0.812348  0.754504  0.135546  0.156330\n",
       "2019-01-29  0.276116  0.696874  0.101818  0.530066\n",
       "2019-02-05  0.424540  0.876333  0.760724  0.440854\n",
       "2019-02-12  0.060537  0.007704  0.885062  0.591942\n",
       "2019-02-19  0.557457  0.162332  0.777543  0.802119\n",
       "2019-02-26  0.293810  0.577668  0.381289  0.269108\n",
       "2019-03-05  0.951365  0.187783  0.274313  0.572033\n",
       "2019-03-12  0.909822  0.094587  0.562674  0.488636\n",
       "2019-03-19  0.100170  0.557778  0.656121  0.805825\n",
       "2019-03-26  0.118895  0.903179  0.133615  0.213130\n",
       "2019-04-02  0.762188  0.616309  0.414413  0.251110\n",
       "2019-04-09  0.870564  0.114147  0.215091  0.305864\n",
       "2019-04-16  0.329001  0.600684  0.254155  0.036786\n",
       "2019-04-23  0.011036  0.723234  0.914072  0.522628\n",
       "2019-04-30  0.563203  0.278933  0.252296  0.503542\n",
       "2019-05-07  0.995268  0.284004  0.838464  0.276085\n",
       "2019-05-14  0.958454  0.305987  0.946705  0.023118\n",
       "2019-05-21  0.684360  0.367712  0.712762  0.647912\n",
       "2019-05-28  0.514436  0.340526  0.732959  0.232305\n",
       "2019-06-04  0.758317  0.403854  0.042772  0.453002\n",
       "2019-06-11  0.785260  0.361093  0.866071  0.660303\n",
       "2019-06-18  0.031422  0.881687  0.019963  0.031086\n",
       "2019-06-25  0.508432  0.287298  0.908995  0.910265\n",
       "2019-07-02  0.801426  0.802490  0.906285  0.884040\n",
       "2019-07-09  0.578696  0.890757  0.999995  0.441878\n",
       "2019-07-16  0.238991  0.724177  0.201557  0.760173\n",
       "2019-07-23  0.580183  0.584209  0.358585  0.532481\n",
       "...              ...       ...       ...       ...\n",
       "2020-05-05  0.866713  0.574417  0.365481  0.186538\n",
       "2020-05-12  0.581403  0.994743  0.409043  0.790373\n",
       "2020-05-19  0.424992  0.916970  0.548089  0.718270\n",
       "2020-05-26  0.125183  0.162828  0.452425  0.821146\n",
       "2020-06-02  0.074893  0.617740  0.268926  0.200680\n",
       "2020-06-09  0.076244  0.653458  0.741312  0.232825\n",
       "2020-06-16  0.686418  0.861940  0.138842  0.961792\n",
       "2020-06-23  0.414184  0.604049  0.632874  0.849633\n",
       "2020-06-30  0.155461  0.774678  0.925475  0.660057\n",
       "2020-07-07  0.128928  0.618141  0.088857  0.616343\n",
       "2020-07-14  0.053327  0.478246  0.774477  0.432372\n",
       "2020-07-21  0.921403  0.472522  0.634120  0.008731\n",
       "2020-07-28  0.953680  0.098717  0.559101  0.521496\n",
       "2020-08-04  0.062065  0.985976  0.171523  0.486240\n",
       "2020-08-11  0.506540  0.217138  0.225415  0.767861\n",
       "2020-08-18  0.942311  0.655711  0.403414  0.381509\n",
       "2020-08-25  0.513259  0.781887  0.648971  0.669172\n",
       "2020-09-01  0.590973  0.702421  0.004965  0.999628\n",
       "2020-09-08  0.773044  0.917072  0.734528  0.729097\n",
       "2020-09-15  0.298187  0.413525  0.888911  0.006560\n",
       "2020-09-22  0.418618  0.487217  0.448197  0.391009\n",
       "2020-09-29  0.957265  0.354686  0.194128  0.030932\n",
       "2020-10-06  0.196781  0.947973  0.148090  0.529975\n",
       "2020-10-13  0.369991  0.956574  0.791488  0.871893\n",
       "2020-10-20  0.057797  0.539319  0.686678  0.504112\n",
       "2020-10-27  0.834816  0.585229  0.520815  0.470099\n",
       "2020-11-03  0.050792  0.699330  0.356648  0.277251\n",
       "2020-11-10  0.714616  0.082487  0.093985  0.863519\n",
       "2020-11-17  0.154942  0.372519  0.664746  0.144709\n",
       "2020-11-24  0.924304  0.985693  0.929167  0.421107\n",
       "\n",
       "[100 rows x 4 columns]"
      ]
     },
     "execution_count": 4,
     "metadata": {},
     "output_type": "execute_result"
    }
   ],
   "source": [
    "long_df = pd.DataFrame(np.random.rand(100,4), \n",
    "                      index = dates2, \n",
    "                      columns = ['BC', 'AB', 'ON', 'QC'])\n",
    "long_df"
   ]
  },
  {
   "cell_type": "markdown",
   "metadata": {},
   "source": [
    "### truncate() up to 2019.3.5"
   ]
  },
  {
   "cell_type": "code",
   "execution_count": 7,
   "metadata": {},
   "outputs": [
    {
     "data": {
      "text/html": [
       "<div>\n",
       "<style scoped>\n",
       "    .dataframe tbody tr th:only-of-type {\n",
       "        vertical-align: middle;\n",
       "    }\n",
       "\n",
       "    .dataframe tbody tr th {\n",
       "        vertical-align: top;\n",
       "    }\n",
       "\n",
       "    .dataframe thead th {\n",
       "        text-align: right;\n",
       "    }\n",
       "</style>\n",
       "<table border=\"1\" class=\"dataframe\">\n",
       "  <thead>\n",
       "    <tr style=\"text-align: right;\">\n",
       "      <th></th>\n",
       "      <th>BC</th>\n",
       "      <th>AB</th>\n",
       "      <th>ON</th>\n",
       "      <th>QC</th>\n",
       "    </tr>\n",
       "  </thead>\n",
       "  <tbody>\n",
       "    <tr>\n",
       "      <th>2019-01-01</th>\n",
       "      <td>0.958343</td>\n",
       "      <td>0.140084</td>\n",
       "      <td>0.742973</td>\n",
       "      <td>0.520276</td>\n",
       "    </tr>\n",
       "    <tr>\n",
       "      <th>2019-01-08</th>\n",
       "      <td>0.683839</td>\n",
       "      <td>0.133487</td>\n",
       "      <td>0.914760</td>\n",
       "      <td>0.673614</td>\n",
       "    </tr>\n",
       "    <tr>\n",
       "      <th>2019-01-15</th>\n",
       "      <td>0.165421</td>\n",
       "      <td>0.643793</td>\n",
       "      <td>0.267225</td>\n",
       "      <td>0.037988</td>\n",
       "    </tr>\n",
       "    <tr>\n",
       "      <th>2019-01-22</th>\n",
       "      <td>0.812348</td>\n",
       "      <td>0.754504</td>\n",
       "      <td>0.135546</td>\n",
       "      <td>0.156330</td>\n",
       "    </tr>\n",
       "    <tr>\n",
       "      <th>2019-01-29</th>\n",
       "      <td>0.276116</td>\n",
       "      <td>0.696874</td>\n",
       "      <td>0.101818</td>\n",
       "      <td>0.530066</td>\n",
       "    </tr>\n",
       "    <tr>\n",
       "      <th>2019-02-05</th>\n",
       "      <td>0.424540</td>\n",
       "      <td>0.876333</td>\n",
       "      <td>0.760724</td>\n",
       "      <td>0.440854</td>\n",
       "    </tr>\n",
       "    <tr>\n",
       "      <th>2019-02-12</th>\n",
       "      <td>0.060537</td>\n",
       "      <td>0.007704</td>\n",
       "      <td>0.885062</td>\n",
       "      <td>0.591942</td>\n",
       "    </tr>\n",
       "    <tr>\n",
       "      <th>2019-02-19</th>\n",
       "      <td>0.557457</td>\n",
       "      <td>0.162332</td>\n",
       "      <td>0.777543</td>\n",
       "      <td>0.802119</td>\n",
       "    </tr>\n",
       "    <tr>\n",
       "      <th>2019-02-26</th>\n",
       "      <td>0.293810</td>\n",
       "      <td>0.577668</td>\n",
       "      <td>0.381289</td>\n",
       "      <td>0.269108</td>\n",
       "    </tr>\n",
       "    <tr>\n",
       "      <th>2019-03-05</th>\n",
       "      <td>0.951365</td>\n",
       "      <td>0.187783</td>\n",
       "      <td>0.274313</td>\n",
       "      <td>0.572033</td>\n",
       "    </tr>\n",
       "  </tbody>\n",
       "</table>\n",
       "</div>"
      ],
      "text/plain": [
       "                  BC        AB        ON        QC\n",
       "2019-01-01  0.958343  0.140084  0.742973  0.520276\n",
       "2019-01-08  0.683839  0.133487  0.914760  0.673614\n",
       "2019-01-15  0.165421  0.643793  0.267225  0.037988\n",
       "2019-01-22  0.812348  0.754504  0.135546  0.156330\n",
       "2019-01-29  0.276116  0.696874  0.101818  0.530066\n",
       "2019-02-05  0.424540  0.876333  0.760724  0.440854\n",
       "2019-02-12  0.060537  0.007704  0.885062  0.591942\n",
       "2019-02-19  0.557457  0.162332  0.777543  0.802119\n",
       "2019-02-26  0.293810  0.577668  0.381289  0.269108\n",
       "2019-03-05  0.951365  0.187783  0.274313  0.572033"
      ]
     },
     "execution_count": 7,
     "metadata": {},
     "output_type": "execute_result"
    }
   ],
   "source": [
    "long_df.truncate(after = '3/5/2019')"
   ]
  },
  {
   "cell_type": "code",
   "execution_count": 8,
   "metadata": {},
   "outputs": [
    {
     "data": {
      "text/html": [
       "<div>\n",
       "<style scoped>\n",
       "    .dataframe tbody tr th:only-of-type {\n",
       "        vertical-align: middle;\n",
       "    }\n",
       "\n",
       "    .dataframe tbody tr th {\n",
       "        vertical-align: top;\n",
       "    }\n",
       "\n",
       "    .dataframe thead th {\n",
       "        text-align: right;\n",
       "    }\n",
       "</style>\n",
       "<table border=\"1\" class=\"dataframe\">\n",
       "  <thead>\n",
       "    <tr style=\"text-align: right;\">\n",
       "      <th></th>\n",
       "      <th>BC</th>\n",
       "      <th>AB</th>\n",
       "      <th>ON</th>\n",
       "      <th>QC</th>\n",
       "    </tr>\n",
       "  </thead>\n",
       "  <tbody>\n",
       "    <tr>\n",
       "      <th>2020-05-05</th>\n",
       "      <td>0.866713</td>\n",
       "      <td>0.574417</td>\n",
       "      <td>0.365481</td>\n",
       "      <td>0.186538</td>\n",
       "    </tr>\n",
       "    <tr>\n",
       "      <th>2020-05-12</th>\n",
       "      <td>0.581403</td>\n",
       "      <td>0.994743</td>\n",
       "      <td>0.409043</td>\n",
       "      <td>0.790373</td>\n",
       "    </tr>\n",
       "    <tr>\n",
       "      <th>2020-05-19</th>\n",
       "      <td>0.424992</td>\n",
       "      <td>0.916970</td>\n",
       "      <td>0.548089</td>\n",
       "      <td>0.718270</td>\n",
       "    </tr>\n",
       "    <tr>\n",
       "      <th>2020-05-26</th>\n",
       "      <td>0.125183</td>\n",
       "      <td>0.162828</td>\n",
       "      <td>0.452425</td>\n",
       "      <td>0.821146</td>\n",
       "    </tr>\n",
       "  </tbody>\n",
       "</table>\n",
       "</div>"
      ],
      "text/plain": [
       "                  BC        AB        ON        QC\n",
       "2020-05-05  0.866713  0.574417  0.365481  0.186538\n",
       "2020-05-12  0.581403  0.994743  0.409043  0.790373\n",
       "2020-05-19  0.424992  0.916970  0.548089  0.718270\n",
       "2020-05-26  0.125183  0.162828  0.452425  0.821146"
      ]
     },
     "execution_count": 8,
     "metadata": {},
     "output_type": "execute_result"
    }
   ],
   "source": [
    "long_df.loc['2020/5']"
   ]
  },
  {
   "cell_type": "code",
   "execution_count": 67,
   "metadata": {},
   "outputs": [
    {
     "data": {
      "text/html": [
       "<div>\n",
       "<style scoped>\n",
       "    .dataframe tbody tr th:only-of-type {\n",
       "        vertical-align: middle;\n",
       "    }\n",
       "\n",
       "    .dataframe tbody tr th {\n",
       "        vertical-align: top;\n",
       "    }\n",
       "\n",
       "    .dataframe thead th {\n",
       "        text-align: right;\n",
       "    }\n",
       "</style>\n",
       "<table border=\"1\" class=\"dataframe\">\n",
       "  <thead>\n",
       "    <tr style=\"text-align: right;\">\n",
       "      <th></th>\n",
       "      <th>BC</th>\n",
       "      <th>AB</th>\n",
       "      <th>ON</th>\n",
       "      <th>QC</th>\n",
       "    </tr>\n",
       "  </thead>\n",
       "  <tbody>\n",
       "    <tr>\n",
       "      <th>2020-05-05</th>\n",
       "      <td>0.672891</td>\n",
       "      <td>0.964552</td>\n",
       "      <td>0.912844</td>\n",
       "      <td>0.376813</td>\n",
       "    </tr>\n",
       "    <tr>\n",
       "      <th>2020-05-12</th>\n",
       "      <td>0.876646</td>\n",
       "      <td>0.534100</td>\n",
       "      <td>0.557070</td>\n",
       "      <td>0.166904</td>\n",
       "    </tr>\n",
       "    <tr>\n",
       "      <th>2020-05-19</th>\n",
       "      <td>0.149630</td>\n",
       "      <td>0.690744</td>\n",
       "      <td>0.525476</td>\n",
       "      <td>0.729189</td>\n",
       "    </tr>\n",
       "    <tr>\n",
       "      <th>2020-05-26</th>\n",
       "      <td>0.349221</td>\n",
       "      <td>0.321561</td>\n",
       "      <td>0.310499</td>\n",
       "      <td>0.924782</td>\n",
       "    </tr>\n",
       "  </tbody>\n",
       "</table>\n",
       "</div>"
      ],
      "text/plain": [
       "                  BC        AB        ON        QC\n",
       "2020-05-05  0.672891  0.964552  0.912844  0.376813\n",
       "2020-05-12  0.876646  0.534100  0.557070  0.166904\n",
       "2020-05-19  0.149630  0.690744  0.525476  0.729189\n",
       "2020-05-26  0.349221  0.321561  0.310499  0.924782"
      ]
     },
     "execution_count": 67,
     "metadata": {},
     "output_type": "execute_result"
    }
   ],
   "source": [
    "long_df.loc['2020-5']"
   ]
  },
  {
   "cell_type": "code",
   "execution_count": 68,
   "metadata": {},
   "outputs": [
    {
     "data": {
      "text/html": [
       "<div>\n",
       "<style scoped>\n",
       "    .dataframe tbody tr th:only-of-type {\n",
       "        vertical-align: middle;\n",
       "    }\n",
       "\n",
       "    .dataframe tbody tr th {\n",
       "        vertical-align: top;\n",
       "    }\n",
       "\n",
       "    .dataframe thead th {\n",
       "        text-align: right;\n",
       "    }\n",
       "</style>\n",
       "<table border=\"1\" class=\"dataframe\">\n",
       "  <thead>\n",
       "    <tr style=\"text-align: right;\">\n",
       "      <th></th>\n",
       "      <th>BC</th>\n",
       "      <th>AB</th>\n",
       "      <th>ON</th>\n",
       "      <th>QC</th>\n",
       "    </tr>\n",
       "  </thead>\n",
       "  <tbody>\n",
       "    <tr>\n",
       "      <th>2020-05-05</th>\n",
       "      <td>0.672891</td>\n",
       "      <td>0.964552</td>\n",
       "      <td>0.912844</td>\n",
       "      <td>0.376813</td>\n",
       "    </tr>\n",
       "    <tr>\n",
       "      <th>2020-05-12</th>\n",
       "      <td>0.876646</td>\n",
       "      <td>0.534100</td>\n",
       "      <td>0.557070</td>\n",
       "      <td>0.166904</td>\n",
       "    </tr>\n",
       "    <tr>\n",
       "      <th>2020-05-19</th>\n",
       "      <td>0.149630</td>\n",
       "      <td>0.690744</td>\n",
       "      <td>0.525476</td>\n",
       "      <td>0.729189</td>\n",
       "    </tr>\n",
       "    <tr>\n",
       "      <th>2020-05-26</th>\n",
       "      <td>0.349221</td>\n",
       "      <td>0.321561</td>\n",
       "      <td>0.310499</td>\n",
       "      <td>0.924782</td>\n",
       "    </tr>\n",
       "  </tbody>\n",
       "</table>\n",
       "</div>"
      ],
      "text/plain": [
       "                  BC        AB        ON        QC\n",
       "2020-05-05  0.672891  0.964552  0.912844  0.376813\n",
       "2020-05-12  0.876646  0.534100  0.557070  0.166904\n",
       "2020-05-19  0.149630  0.690744  0.525476  0.729189\n",
       "2020-05-26  0.349221  0.321561  0.310499  0.924782"
      ]
     },
     "execution_count": 68,
     "metadata": {},
     "output_type": "execute_result"
    }
   ],
   "source": [
    "long_df.loc['5-2020']"
   ]
  },
  {
   "cell_type": "markdown",
   "metadata": {},
   "source": [
    "## Frequencsies, daterange() and date offset"
   ]
  },
  {
   "cell_type": "code",
   "execution_count": 69,
   "metadata": {
    "scrolled": true
   },
   "outputs": [
    {
     "data": {
      "text/plain": [
       "DatetimeIndex(['2014-05-01', '2014-05-02', '2014-05-03', '2014-05-04',\n",
       "               '2014-05-05', '2014-05-06', '2014-05-07', '2014-05-08',\n",
       "               '2014-05-09', '2014-05-10',\n",
       "               ...\n",
       "               '2015-03-23', '2015-03-24', '2015-03-25', '2015-03-26',\n",
       "               '2015-03-27', '2015-03-28', '2015-03-29', '2015-03-30',\n",
       "               '2015-03-31', '2015-04-01'],\n",
       "              dtype='datetime64[ns]', length=336, freq='D')"
      ]
     },
     "execution_count": 69,
     "metadata": {},
     "output_type": "execute_result"
    }
   ],
   "source": [
    "pd.date_range('2014-5-1', '2015/4/1')"
   ]
  },
  {
   "cell_type": "code",
   "execution_count": 70,
   "metadata": {},
   "outputs": [
    {
     "data": {
      "text/plain": [
       "DatetimeIndex(['2014-05-01', '2014-05-02', '2014-05-03', '2014-05-04',\n",
       "               '2014-05-05', '2014-05-06', '2014-05-07', '2014-05-08',\n",
       "               '2014-05-09', '2014-05-10', '2014-05-11', '2014-05-12',\n",
       "               '2014-05-13', '2014-05-14', '2014-05-15', '2014-05-16',\n",
       "               '2014-05-17', '2014-05-18', '2014-05-19', '2014-05-20'],\n",
       "              dtype='datetime64[ns]', freq='D')"
      ]
     },
     "execution_count": 70,
     "metadata": {},
     "output_type": "execute_result"
    }
   ],
   "source": [
    "pd.date_range(start = '2014-5-1', periods = 20)"
   ]
  },
  {
   "cell_type": "code",
   "execution_count": 72,
   "metadata": {},
   "outputs": [
    {
     "data": {
      "text/plain": [
       "DatetimeIndex(['2014-04-12 12:54:21', '2014-04-13 12:54:21',\n",
       "               '2014-04-14 12:54:21', '2014-04-15 12:54:21',\n",
       "               '2014-04-16 12:54:21', '2014-04-17 12:54:21',\n",
       "               '2014-04-18 12:54:21', '2014-04-19 12:54:21',\n",
       "               '2014-04-20 12:54:21', '2014-04-21 12:54:21',\n",
       "               '2014-04-22 12:54:21', '2014-04-23 12:54:21',\n",
       "               '2014-04-24 12:54:21', '2014-04-25 12:54:21',\n",
       "               '2014-04-26 12:54:21', '2014-04-27 12:54:21',\n",
       "               '2014-04-28 12:54:21', '2014-04-29 12:54:21',\n",
       "               '2014-04-30 12:54:21', '2014-05-01 12:54:21'],\n",
       "              dtype='datetime64[ns]', freq='D')"
      ]
     },
     "execution_count": 72,
     "metadata": {},
     "output_type": "execute_result"
    }
   ],
   "source": [
    "pd.date_range(end = '2014-5-1 12:54:21', periods = 20)"
   ]
  },
  {
   "cell_type": "code",
   "execution_count": 73,
   "metadata": {},
   "outputs": [
    {
     "data": {
      "text/plain": [
       "DatetimeIndex(['2014-05-30', '2014-06-30', '2014-07-31', '2014-08-29',\n",
       "               '2014-09-30', '2014-10-31', '2014-11-28', '2014-12-31',\n",
       "               '2015-01-30', '2015-02-27', '2015-03-31'],\n",
       "              dtype='datetime64[ns]', freq='BM')"
      ]
     },
     "execution_count": 73,
     "metadata": {},
     "output_type": "execute_result"
    }
   ],
   "source": [
    "# the 'BM' in freq is refered to as time series frequencies\n",
    "pd.date_range('2014-5-1', '2015/4/1', freq='BM')"
   ]
  },
  {
   "cell_type": "code",
   "execution_count": 14,
   "metadata": {},
   "outputs": [],
   "source": [
    "from pandas.tseries.offsets import Hour, Minute, Second"
   ]
  },
  {
   "cell_type": "code",
   "execution_count": 12,
   "metadata": {},
   "outputs": [
    {
     "data": {
      "text/plain": [
       "<Hour>"
      ]
     },
     "execution_count": 12,
     "metadata": {},
     "output_type": "execute_result"
    }
   ],
   "source": [
    "hour = Hour()\n",
    "hour"
   ]
  },
  {
   "cell_type": "code",
   "execution_count": 13,
   "metadata": {},
   "outputs": [
    {
     "data": {
      "text/plain": [
       "<4 * Hours>"
      ]
     },
     "execution_count": 13,
     "metadata": {},
     "output_type": "execute_result"
    }
   ],
   "source": [
    "four_hour = Hour(4)\n",
    "four_hour"
   ]
  },
  {
   "cell_type": "code",
   "execution_count": 15,
   "metadata": {},
   "outputs": [
    {
     "data": {
      "text/plain": [
       "DatetimeIndex(['2014-05-01 00:00:00', '2014-05-01 04:00:00',\n",
       "               '2014-05-01 08:00:00', '2014-05-01 12:00:00',\n",
       "               '2014-05-01 16:00:00', '2014-05-01 20:00:00',\n",
       "               '2014-05-02 00:00:00'],\n",
       "              dtype='datetime64[ns]', freq='4H')"
      ]
     },
     "execution_count": 15,
     "metadata": {},
     "output_type": "execute_result"
    }
   ],
   "source": [
    "pd.date_range('2014-5-1', '2014/5/2', freq='4H')"
   ]
  },
  {
   "cell_type": "code",
   "execution_count": 16,
   "metadata": {},
   "outputs": [
    {
     "data": {
      "text/plain": [
       "DatetimeIndex(['2014-05-01 00:00:00', '2014-05-01 01:30:00',\n",
       "               '2014-05-01 03:00:00', '2014-05-01 04:30:00',\n",
       "               '2014-05-01 06:00:00', '2014-05-01 07:30:00',\n",
       "               '2014-05-01 09:00:00', '2014-05-01 10:30:00',\n",
       "               '2014-05-01 12:00:00', '2014-05-01 13:30:00',\n",
       "               '2014-05-01 15:00:00', '2014-05-01 16:30:00',\n",
       "               '2014-05-01 18:00:00', '2014-05-01 19:30:00',\n",
       "               '2014-05-01 21:00:00', '2014-05-01 22:30:00',\n",
       "               '2014-05-02 00:00:00'],\n",
       "              dtype='datetime64[ns]', freq='90T')"
      ]
     },
     "execution_count": 16,
     "metadata": {},
     "output_type": "execute_result"
    }
   ],
   "source": [
    "pd.date_range('2014-5-1', '2014/5/2', freq='1H30Min')"
   ]
  },
  {
   "cell_type": "markdown",
   "metadata": {},
   "source": [
    "### week of month \n",
    "For example third friday of each month"
   ]
  },
  {
   "cell_type": "code",
   "execution_count": 17,
   "metadata": {},
   "outputs": [
    {
     "data": {
      "text/plain": [
       "DatetimeIndex(['2014-05-16', '2014-06-20', '2014-07-18', '2014-08-15',\n",
       "               '2014-09-19', '2014-10-17', '2014-11-21', '2014-12-19',\n",
       "               '2015-01-16', '2015-02-20', '2015-03-20', '2015-04-17'],\n",
       "              dtype='datetime64[ns]', freq='WOM-3FRI')"
      ]
     },
     "execution_count": 17,
     "metadata": {},
     "output_type": "execute_result"
    }
   ],
   "source": [
    "pd.date_range('2014-5-1', '2015/5/2', freq='WOM-3FRI')"
   ]
  },
  {
   "cell_type": "markdown",
   "metadata": {},
   "source": [
    "## Shifting and lagging"
   ]
  },
  {
   "cell_type": "code",
   "execution_count": 18,
   "metadata": {},
   "outputs": [
    {
     "data": {
      "text/html": [
       "<div>\n",
       "<style scoped>\n",
       "    .dataframe tbody tr th:only-of-type {\n",
       "        vertical-align: middle;\n",
       "    }\n",
       "\n",
       "    .dataframe tbody tr th {\n",
       "        vertical-align: top;\n",
       "    }\n",
       "\n",
       "    .dataframe thead th {\n",
       "        text-align: right;\n",
       "    }\n",
       "</style>\n",
       "<table border=\"1\" class=\"dataframe\">\n",
       "  <thead>\n",
       "    <tr style=\"text-align: right;\">\n",
       "      <th></th>\n",
       "      <th>BC</th>\n",
       "      <th>AB</th>\n",
       "      <th>ON</th>\n",
       "      <th>QC</th>\n",
       "    </tr>\n",
       "  </thead>\n",
       "  <tbody>\n",
       "    <tr>\n",
       "      <th>2000-01-31</th>\n",
       "      <td>0.249817</td>\n",
       "      <td>0.877709</td>\n",
       "      <td>0.605885</td>\n",
       "      <td>0.519853</td>\n",
       "    </tr>\n",
       "    <tr>\n",
       "      <th>2000-02-29</th>\n",
       "      <td>0.737301</td>\n",
       "      <td>0.507585</td>\n",
       "      <td>0.082871</td>\n",
       "      <td>0.844742</td>\n",
       "    </tr>\n",
       "    <tr>\n",
       "      <th>2000-03-31</th>\n",
       "      <td>0.228534</td>\n",
       "      <td>0.325019</td>\n",
       "      <td>0.219548</td>\n",
       "      <td>0.481319</td>\n",
       "    </tr>\n",
       "    <tr>\n",
       "      <th>2000-04-30</th>\n",
       "      <td>0.049844</td>\n",
       "      <td>0.423265</td>\n",
       "      <td>0.669257</td>\n",
       "      <td>0.355176</td>\n",
       "    </tr>\n",
       "    <tr>\n",
       "      <th>2000-05-31</th>\n",
       "      <td>0.474872</td>\n",
       "      <td>0.828781</td>\n",
       "      <td>0.016064</td>\n",
       "      <td>0.198094</td>\n",
       "    </tr>\n",
       "    <tr>\n",
       "      <th>2000-06-30</th>\n",
       "      <td>0.993122</td>\n",
       "      <td>0.132734</td>\n",
       "      <td>0.893075</td>\n",
       "      <td>0.324890</td>\n",
       "    </tr>\n",
       "    <tr>\n",
       "      <th>2000-07-31</th>\n",
       "      <td>0.674163</td>\n",
       "      <td>0.708233</td>\n",
       "      <td>0.320663</td>\n",
       "      <td>0.732701</td>\n",
       "    </tr>\n",
       "    <tr>\n",
       "      <th>2000-08-31</th>\n",
       "      <td>0.038471</td>\n",
       "      <td>0.062586</td>\n",
       "      <td>0.982595</td>\n",
       "      <td>0.838898</td>\n",
       "    </tr>\n",
       "    <tr>\n",
       "      <th>2000-09-30</th>\n",
       "      <td>0.347769</td>\n",
       "      <td>0.566961</td>\n",
       "      <td>0.908593</td>\n",
       "      <td>0.956009</td>\n",
       "    </tr>\n",
       "    <tr>\n",
       "      <th>2000-10-31</th>\n",
       "      <td>0.143960</td>\n",
       "      <td>0.895207</td>\n",
       "      <td>0.036667</td>\n",
       "      <td>0.183649</td>\n",
       "    </tr>\n",
       "  </tbody>\n",
       "</table>\n",
       "</div>"
      ],
      "text/plain": [
       "                  BC        AB        ON        QC\n",
       "2000-01-31  0.249817  0.877709  0.605885  0.519853\n",
       "2000-02-29  0.737301  0.507585  0.082871  0.844742\n",
       "2000-03-31  0.228534  0.325019  0.219548  0.481319\n",
       "2000-04-30  0.049844  0.423265  0.669257  0.355176\n",
       "2000-05-31  0.474872  0.828781  0.016064  0.198094\n",
       "2000-06-30  0.993122  0.132734  0.893075  0.324890\n",
       "2000-07-31  0.674163  0.708233  0.320663  0.732701\n",
       "2000-08-31  0.038471  0.062586  0.982595  0.838898\n",
       "2000-09-30  0.347769  0.566961  0.908593  0.956009\n",
       "2000-10-31  0.143960  0.895207  0.036667  0.183649"
      ]
     },
     "execution_count": 18,
     "metadata": {},
     "output_type": "execute_result"
    }
   ],
   "source": [
    "df2 = pd.DataFrame(np.random.rand(10,4), \n",
    "                     index = pd.date_range('1/1/2000', periods=10, freq='M'), \n",
    "                     columns = ['BC', 'AB', 'ON', 'QC'])\n",
    "df2"
   ]
  },
  {
   "cell_type": "code",
   "execution_count": 82,
   "metadata": {},
   "outputs": [
    {
     "data": {
      "text/html": [
       "<div>\n",
       "<style scoped>\n",
       "    .dataframe tbody tr th:only-of-type {\n",
       "        vertical-align: middle;\n",
       "    }\n",
       "\n",
       "    .dataframe tbody tr th {\n",
       "        vertical-align: top;\n",
       "    }\n",
       "\n",
       "    .dataframe thead th {\n",
       "        text-align: right;\n",
       "    }\n",
       "</style>\n",
       "<table border=\"1\" class=\"dataframe\">\n",
       "  <thead>\n",
       "    <tr style=\"text-align: right;\">\n",
       "      <th></th>\n",
       "      <th>BC</th>\n",
       "      <th>AB</th>\n",
       "      <th>ON</th>\n",
       "      <th>QC</th>\n",
       "    </tr>\n",
       "  </thead>\n",
       "  <tbody>\n",
       "    <tr>\n",
       "      <th>2000-01-31</th>\n",
       "      <td>NaN</td>\n",
       "      <td>NaN</td>\n",
       "      <td>NaN</td>\n",
       "      <td>NaN</td>\n",
       "    </tr>\n",
       "    <tr>\n",
       "      <th>2000-02-29</th>\n",
       "      <td>NaN</td>\n",
       "      <td>NaN</td>\n",
       "      <td>NaN</td>\n",
       "      <td>NaN</td>\n",
       "    </tr>\n",
       "    <tr>\n",
       "      <th>2000-03-31</th>\n",
       "      <td>0.391620</td>\n",
       "      <td>0.100888</td>\n",
       "      <td>0.883165</td>\n",
       "      <td>0.063428</td>\n",
       "    </tr>\n",
       "    <tr>\n",
       "      <th>2000-04-30</th>\n",
       "      <td>0.084843</td>\n",
       "      <td>0.715274</td>\n",
       "      <td>0.457376</td>\n",
       "      <td>0.893390</td>\n",
       "    </tr>\n",
       "    <tr>\n",
       "      <th>2000-05-31</th>\n",
       "      <td>0.638747</td>\n",
       "      <td>0.921422</td>\n",
       "      <td>0.274055</td>\n",
       "      <td>0.243187</td>\n",
       "    </tr>\n",
       "    <tr>\n",
       "      <th>2000-06-30</th>\n",
       "      <td>0.042082</td>\n",
       "      <td>0.038662</td>\n",
       "      <td>0.752475</td>\n",
       "      <td>0.677663</td>\n",
       "    </tr>\n",
       "    <tr>\n",
       "      <th>2000-07-31</th>\n",
       "      <td>0.806955</td>\n",
       "      <td>0.043258</td>\n",
       "      <td>0.814992</td>\n",
       "      <td>0.230201</td>\n",
       "    </tr>\n",
       "    <tr>\n",
       "      <th>2000-08-31</th>\n",
       "      <td>0.868624</td>\n",
       "      <td>0.759095</td>\n",
       "      <td>0.057826</td>\n",
       "      <td>0.201055</td>\n",
       "    </tr>\n",
       "    <tr>\n",
       "      <th>2000-09-30</th>\n",
       "      <td>0.730412</td>\n",
       "      <td>0.601669</td>\n",
       "      <td>0.123824</td>\n",
       "      <td>0.020490</td>\n",
       "    </tr>\n",
       "    <tr>\n",
       "      <th>2000-10-31</th>\n",
       "      <td>0.220742</td>\n",
       "      <td>0.859498</td>\n",
       "      <td>0.383403</td>\n",
       "      <td>0.151133</td>\n",
       "    </tr>\n",
       "  </tbody>\n",
       "</table>\n",
       "</div>"
      ],
      "text/plain": [
       "                  BC        AB        ON        QC\n",
       "2000-01-31       NaN       NaN       NaN       NaN\n",
       "2000-02-29       NaN       NaN       NaN       NaN\n",
       "2000-03-31  0.391620  0.100888  0.883165  0.063428\n",
       "2000-04-30  0.084843  0.715274  0.457376  0.893390\n",
       "2000-05-31  0.638747  0.921422  0.274055  0.243187\n",
       "2000-06-30  0.042082  0.038662  0.752475  0.677663\n",
       "2000-07-31  0.806955  0.043258  0.814992  0.230201\n",
       "2000-08-31  0.868624  0.759095  0.057826  0.201055\n",
       "2000-09-30  0.730412  0.601669  0.123824  0.020490\n",
       "2000-10-31  0.220742  0.859498  0.383403  0.151133"
      ]
     },
     "execution_count": 82,
     "metadata": {},
     "output_type": "execute_result"
    }
   ],
   "source": [
    "df2.shift(2)"
   ]
  },
  {
   "cell_type": "code",
   "execution_count": 83,
   "metadata": {},
   "outputs": [
    {
     "data": {
      "text/html": [
       "<div>\n",
       "<style scoped>\n",
       "    .dataframe tbody tr th:only-of-type {\n",
       "        vertical-align: middle;\n",
       "    }\n",
       "\n",
       "    .dataframe tbody tr th {\n",
       "        vertical-align: top;\n",
       "    }\n",
       "\n",
       "    .dataframe thead th {\n",
       "        text-align: right;\n",
       "    }\n",
       "</style>\n",
       "<table border=\"1\" class=\"dataframe\">\n",
       "  <thead>\n",
       "    <tr style=\"text-align: right;\">\n",
       "      <th></th>\n",
       "      <th>BC</th>\n",
       "      <th>AB</th>\n",
       "      <th>ON</th>\n",
       "      <th>QC</th>\n",
       "    </tr>\n",
       "  </thead>\n",
       "  <tbody>\n",
       "    <tr>\n",
       "      <th>2000-03-31</th>\n",
       "      <td>0.391620</td>\n",
       "      <td>0.100888</td>\n",
       "      <td>0.883165</td>\n",
       "      <td>0.063428</td>\n",
       "    </tr>\n",
       "    <tr>\n",
       "      <th>2000-04-30</th>\n",
       "      <td>0.084843</td>\n",
       "      <td>0.715274</td>\n",
       "      <td>0.457376</td>\n",
       "      <td>0.893390</td>\n",
       "    </tr>\n",
       "    <tr>\n",
       "      <th>2000-05-31</th>\n",
       "      <td>0.638747</td>\n",
       "      <td>0.921422</td>\n",
       "      <td>0.274055</td>\n",
       "      <td>0.243187</td>\n",
       "    </tr>\n",
       "    <tr>\n",
       "      <th>2000-06-30</th>\n",
       "      <td>0.042082</td>\n",
       "      <td>0.038662</td>\n",
       "      <td>0.752475</td>\n",
       "      <td>0.677663</td>\n",
       "    </tr>\n",
       "    <tr>\n",
       "      <th>2000-07-31</th>\n",
       "      <td>0.806955</td>\n",
       "      <td>0.043258</td>\n",
       "      <td>0.814992</td>\n",
       "      <td>0.230201</td>\n",
       "    </tr>\n",
       "    <tr>\n",
       "      <th>2000-08-31</th>\n",
       "      <td>0.868624</td>\n",
       "      <td>0.759095</td>\n",
       "      <td>0.057826</td>\n",
       "      <td>0.201055</td>\n",
       "    </tr>\n",
       "    <tr>\n",
       "      <th>2000-09-30</th>\n",
       "      <td>0.730412</td>\n",
       "      <td>0.601669</td>\n",
       "      <td>0.123824</td>\n",
       "      <td>0.020490</td>\n",
       "    </tr>\n",
       "    <tr>\n",
       "      <th>2000-10-31</th>\n",
       "      <td>0.220742</td>\n",
       "      <td>0.859498</td>\n",
       "      <td>0.383403</td>\n",
       "      <td>0.151133</td>\n",
       "    </tr>\n",
       "    <tr>\n",
       "      <th>2000-11-30</th>\n",
       "      <td>0.781675</td>\n",
       "      <td>0.892017</td>\n",
       "      <td>0.996005</td>\n",
       "      <td>0.051130</td>\n",
       "    </tr>\n",
       "    <tr>\n",
       "      <th>2000-12-31</th>\n",
       "      <td>0.125197</td>\n",
       "      <td>0.679480</td>\n",
       "      <td>0.859880</td>\n",
       "      <td>0.879365</td>\n",
       "    </tr>\n",
       "  </tbody>\n",
       "</table>\n",
       "</div>"
      ],
      "text/plain": [
       "                  BC        AB        ON        QC\n",
       "2000-03-31  0.391620  0.100888  0.883165  0.063428\n",
       "2000-04-30  0.084843  0.715274  0.457376  0.893390\n",
       "2000-05-31  0.638747  0.921422  0.274055  0.243187\n",
       "2000-06-30  0.042082  0.038662  0.752475  0.677663\n",
       "2000-07-31  0.806955  0.043258  0.814992  0.230201\n",
       "2000-08-31  0.868624  0.759095  0.057826  0.201055\n",
       "2000-09-30  0.730412  0.601669  0.123824  0.020490\n",
       "2000-10-31  0.220742  0.859498  0.383403  0.151133\n",
       "2000-11-30  0.781675  0.892017  0.996005  0.051130\n",
       "2000-12-31  0.125197  0.679480  0.859880  0.879365"
      ]
     },
     "execution_count": 83,
     "metadata": {},
     "output_type": "execute_result"
    }
   ],
   "source": [
    "df2.shift(2, freq='M')"
   ]
  },
  {
   "cell_type": "code",
   "execution_count": 20,
   "metadata": {},
   "outputs": [
    {
     "data": {
      "text/html": [
       "<div>\n",
       "<style scoped>\n",
       "    .dataframe tbody tr th:only-of-type {\n",
       "        vertical-align: middle;\n",
       "    }\n",
       "\n",
       "    .dataframe tbody tr th {\n",
       "        vertical-align: top;\n",
       "    }\n",
       "\n",
       "    .dataframe thead th {\n",
       "        text-align: right;\n",
       "    }\n",
       "</style>\n",
       "<table border=\"1\" class=\"dataframe\">\n",
       "  <thead>\n",
       "    <tr style=\"text-align: right;\">\n",
       "      <th></th>\n",
       "      <th>BC</th>\n",
       "      <th>AB</th>\n",
       "      <th>ON</th>\n",
       "      <th>QC</th>\n",
       "    </tr>\n",
       "  </thead>\n",
       "  <tbody>\n",
       "    <tr>\n",
       "      <th>2000-02-01</th>\n",
       "      <td>0.249817</td>\n",
       "      <td>0.877709</td>\n",
       "      <td>0.605885</td>\n",
       "      <td>0.519853</td>\n",
       "    </tr>\n",
       "    <tr>\n",
       "      <th>2000-03-01</th>\n",
       "      <td>0.737301</td>\n",
       "      <td>0.507585</td>\n",
       "      <td>0.082871</td>\n",
       "      <td>0.844742</td>\n",
       "    </tr>\n",
       "    <tr>\n",
       "      <th>2000-04-01</th>\n",
       "      <td>0.228534</td>\n",
       "      <td>0.325019</td>\n",
       "      <td>0.219548</td>\n",
       "      <td>0.481319</td>\n",
       "    </tr>\n",
       "    <tr>\n",
       "      <th>2000-05-01</th>\n",
       "      <td>0.049844</td>\n",
       "      <td>0.423265</td>\n",
       "      <td>0.669257</td>\n",
       "      <td>0.355176</td>\n",
       "    </tr>\n",
       "    <tr>\n",
       "      <th>2000-06-01</th>\n",
       "      <td>0.474872</td>\n",
       "      <td>0.828781</td>\n",
       "      <td>0.016064</td>\n",
       "      <td>0.198094</td>\n",
       "    </tr>\n",
       "    <tr>\n",
       "      <th>2000-07-01</th>\n",
       "      <td>0.993122</td>\n",
       "      <td>0.132734</td>\n",
       "      <td>0.893075</td>\n",
       "      <td>0.324890</td>\n",
       "    </tr>\n",
       "    <tr>\n",
       "      <th>2000-08-01</th>\n",
       "      <td>0.674163</td>\n",
       "      <td>0.708233</td>\n",
       "      <td>0.320663</td>\n",
       "      <td>0.732701</td>\n",
       "    </tr>\n",
       "    <tr>\n",
       "      <th>2000-09-01</th>\n",
       "      <td>0.038471</td>\n",
       "      <td>0.062586</td>\n",
       "      <td>0.982595</td>\n",
       "      <td>0.838898</td>\n",
       "    </tr>\n",
       "    <tr>\n",
       "      <th>2000-10-01</th>\n",
       "      <td>0.347769</td>\n",
       "      <td>0.566961</td>\n",
       "      <td>0.908593</td>\n",
       "      <td>0.956009</td>\n",
       "    </tr>\n",
       "    <tr>\n",
       "      <th>2000-11-01</th>\n",
       "      <td>0.143960</td>\n",
       "      <td>0.895207</td>\n",
       "      <td>0.036667</td>\n",
       "      <td>0.183649</td>\n",
       "    </tr>\n",
       "  </tbody>\n",
       "</table>\n",
       "</div>"
      ],
      "text/plain": [
       "                  BC        AB        ON        QC\n",
       "2000-02-01  0.249817  0.877709  0.605885  0.519853\n",
       "2000-03-01  0.737301  0.507585  0.082871  0.844742\n",
       "2000-04-01  0.228534  0.325019  0.219548  0.481319\n",
       "2000-05-01  0.049844  0.423265  0.669257  0.355176\n",
       "2000-06-01  0.474872  0.828781  0.016064  0.198094\n",
       "2000-07-01  0.993122  0.132734  0.893075  0.324890\n",
       "2000-08-01  0.674163  0.708233  0.320663  0.732701\n",
       "2000-09-01  0.038471  0.062586  0.982595  0.838898\n",
       "2000-10-01  0.347769  0.566961  0.908593  0.956009\n",
       "2000-11-01  0.143960  0.895207  0.036667  0.183649"
      ]
     },
     "execution_count": 20,
     "metadata": {},
     "output_type": "execute_result"
    }
   ],
   "source": [
    "# then it becomes the first day of each month\n",
    "df2.shift(1, freq='D')"
   ]
  },
  {
   "cell_type": "markdown",
   "metadata": {},
   "source": [
    "## Resampling"
   ]
  },
  {
   "cell_type": "code",
   "execution_count": 21,
   "metadata": {},
   "outputs": [
    {
     "data": {
      "text/html": [
       "<div>\n",
       "<style scoped>\n",
       "    .dataframe tbody tr th:only-of-type {\n",
       "        vertical-align: middle;\n",
       "    }\n",
       "\n",
       "    .dataframe tbody tr th {\n",
       "        vertical-align: top;\n",
       "    }\n",
       "\n",
       "    .dataframe thead th {\n",
       "        text-align: right;\n",
       "    }\n",
       "</style>\n",
       "<table border=\"1\" class=\"dataframe\">\n",
       "  <thead>\n",
       "    <tr style=\"text-align: right;\">\n",
       "      <th></th>\n",
       "      <th>BC</th>\n",
       "      <th>AB</th>\n",
       "      <th>ON</th>\n",
       "      <th>QC</th>\n",
       "    </tr>\n",
       "  </thead>\n",
       "  <tbody>\n",
       "    <tr>\n",
       "      <th>2000-01-01</th>\n",
       "      <td>0.893757</td>\n",
       "      <td>0.111178</td>\n",
       "      <td>0.827389</td>\n",
       "      <td>0.093628</td>\n",
       "    </tr>\n",
       "    <tr>\n",
       "      <th>2000-01-02</th>\n",
       "      <td>0.305950</td>\n",
       "      <td>0.157549</td>\n",
       "      <td>0.863000</td>\n",
       "      <td>0.035351</td>\n",
       "    </tr>\n",
       "    <tr>\n",
       "      <th>2000-01-03</th>\n",
       "      <td>0.206335</td>\n",
       "      <td>0.397759</td>\n",
       "      <td>0.939993</td>\n",
       "      <td>0.759062</td>\n",
       "    </tr>\n",
       "    <tr>\n",
       "      <th>2000-01-04</th>\n",
       "      <td>0.513790</td>\n",
       "      <td>0.706284</td>\n",
       "      <td>0.188356</td>\n",
       "      <td>0.931982</td>\n",
       "    </tr>\n",
       "  </tbody>\n",
       "</table>\n",
       "</div>"
      ],
      "text/plain": [
       "                  BC        AB        ON        QC\n",
       "2000-01-01  0.893757  0.111178  0.827389  0.093628\n",
       "2000-01-02  0.305950  0.157549  0.863000  0.035351\n",
       "2000-01-03  0.206335  0.397759  0.939993  0.759062\n",
       "2000-01-04  0.513790  0.706284  0.188356  0.931982"
      ]
     },
     "execution_count": 21,
     "metadata": {},
     "output_type": "execute_result"
    }
   ],
   "source": [
    "df3 = pd.DataFrame(np.random.rand(100,4), \n",
    "                     index = pd.date_range('1/1/2000', periods=100, freq='D'), \n",
    "                     columns = ['BC', 'AB', 'ON', 'QC'])\n",
    "df3.head(4)"
   ]
  },
  {
   "cell_type": "code",
   "execution_count": 23,
   "metadata": {},
   "outputs": [
    {
     "data": {
      "text/html": [
       "<div>\n",
       "<style scoped>\n",
       "    .dataframe tbody tr th:only-of-type {\n",
       "        vertical-align: middle;\n",
       "    }\n",
       "\n",
       "    .dataframe tbody tr th {\n",
       "        vertical-align: top;\n",
       "    }\n",
       "\n",
       "    .dataframe thead th {\n",
       "        text-align: right;\n",
       "    }\n",
       "</style>\n",
       "<table border=\"1\" class=\"dataframe\">\n",
       "  <thead>\n",
       "    <tr style=\"text-align: right;\">\n",
       "      <th></th>\n",
       "      <th>BC</th>\n",
       "      <th>AB</th>\n",
       "      <th>ON</th>\n",
       "      <th>QC</th>\n",
       "    </tr>\n",
       "  </thead>\n",
       "  <tbody>\n",
       "    <tr>\n",
       "      <th>2000-01-31</th>\n",
       "      <td>16.545218</td>\n",
       "      <td>15.767990</td>\n",
       "      <td>18.014917</td>\n",
       "      <td>16.584920</td>\n",
       "    </tr>\n",
       "    <tr>\n",
       "      <th>2000-02-29</th>\n",
       "      <td>14.873864</td>\n",
       "      <td>16.772331</td>\n",
       "      <td>14.854562</td>\n",
       "      <td>14.301667</td>\n",
       "    </tr>\n",
       "    <tr>\n",
       "      <th>2000-03-31</th>\n",
       "      <td>15.528021</td>\n",
       "      <td>14.023484</td>\n",
       "      <td>16.807225</td>\n",
       "      <td>15.085411</td>\n",
       "    </tr>\n",
       "    <tr>\n",
       "      <th>2000-04-30</th>\n",
       "      <td>4.864064</td>\n",
       "      <td>5.482613</td>\n",
       "      <td>2.099345</td>\n",
       "      <td>4.011822</td>\n",
       "    </tr>\n",
       "  </tbody>\n",
       "</table>\n",
       "</div>"
      ],
      "text/plain": [
       "                   BC         AB         ON         QC\n",
       "2000-01-31  16.545218  15.767990  18.014917  16.584920\n",
       "2000-02-29  14.873864  16.772331  14.854562  14.301667\n",
       "2000-03-31  15.528021  14.023484  16.807225  15.085411\n",
       "2000-04-30   4.864064   5.482613   2.099345   4.011822"
      ]
     },
     "execution_count": 23,
     "metadata": {},
     "output_type": "execute_result"
    }
   ],
   "source": [
    "df3.resample('M').sum()"
   ]
  },
  {
   "cell_type": "markdown",
   "metadata": {},
   "source": [
    "## Aggregation"
   ]
  },
  {
   "cell_type": "code",
   "execution_count": 29,
   "metadata": {},
   "outputs": [
    {
     "data": {
      "text/html": [
       "<div>\n",
       "<style scoped>\n",
       "    .dataframe tbody tr th:only-of-type {\n",
       "        vertical-align: middle;\n",
       "    }\n",
       "\n",
       "    .dataframe tbody tr th {\n",
       "        vertical-align: top;\n",
       "    }\n",
       "\n",
       "    .dataframe thead th {\n",
       "        text-align: right;\n",
       "    }\n",
       "</style>\n",
       "<table border=\"1\" class=\"dataframe\">\n",
       "  <thead>\n",
       "    <tr style=\"text-align: right;\">\n",
       "      <th></th>\n",
       "      <th>BC</th>\n",
       "    </tr>\n",
       "  </thead>\n",
       "  <tbody>\n",
       "    <tr>\n",
       "      <th>2000-01-01 00:00:00</th>\n",
       "      <td>0</td>\n",
       "    </tr>\n",
       "    <tr>\n",
       "      <th>2000-01-01 00:01:00</th>\n",
       "      <td>1</td>\n",
       "    </tr>\n",
       "    <tr>\n",
       "      <th>2000-01-01 00:02:00</th>\n",
       "      <td>2</td>\n",
       "    </tr>\n",
       "    <tr>\n",
       "      <th>2000-01-01 00:03:00</th>\n",
       "      <td>3</td>\n",
       "    </tr>\n",
       "    <tr>\n",
       "      <th>2000-01-01 00:04:00</th>\n",
       "      <td>4</td>\n",
       "    </tr>\n",
       "    <tr>\n",
       "      <th>2000-01-01 00:05:00</th>\n",
       "      <td>5</td>\n",
       "    </tr>\n",
       "    <tr>\n",
       "      <th>2000-01-01 00:06:00</th>\n",
       "      <td>6</td>\n",
       "    </tr>\n",
       "    <tr>\n",
       "      <th>2000-01-01 00:07:00</th>\n",
       "      <td>7</td>\n",
       "    </tr>\n",
       "  </tbody>\n",
       "</table>\n",
       "</div>"
      ],
      "text/plain": [
       "                     BC\n",
       "2000-01-01 00:00:00   0\n",
       "2000-01-01 00:01:00   1\n",
       "2000-01-01 00:02:00   2\n",
       "2000-01-01 00:03:00   3\n",
       "2000-01-01 00:04:00   4\n",
       "2000-01-01 00:05:00   5\n",
       "2000-01-01 00:06:00   6\n",
       "2000-01-01 00:07:00   7"
      ]
     },
     "execution_count": 29,
     "metadata": {},
     "output_type": "execute_result"
    }
   ],
   "source": [
    "df4 = pd.DataFrame(np.arange(100), \n",
    "                     index = pd.date_range('1/1/2000', periods=100, freq='T'), \n",
    "                     columns = ['BC'])\n",
    "df4.head(8)\n",
    "# freq = 'T' is the same as 'Min'"
   ]
  },
  {
   "cell_type": "code",
   "execution_count": 30,
   "metadata": {},
   "outputs": [
    {
     "data": {
      "text/html": [
       "<div>\n",
       "<style scoped>\n",
       "    .dataframe tbody tr th:only-of-type {\n",
       "        vertical-align: middle;\n",
       "    }\n",
       "\n",
       "    .dataframe tbody tr th {\n",
       "        vertical-align: top;\n",
       "    }\n",
       "\n",
       "    .dataframe thead th {\n",
       "        text-align: right;\n",
       "    }\n",
       "</style>\n",
       "<table border=\"1\" class=\"dataframe\">\n",
       "  <thead>\n",
       "    <tr style=\"text-align: right;\">\n",
       "      <th></th>\n",
       "      <th>BC</th>\n",
       "    </tr>\n",
       "  </thead>\n",
       "  <tbody>\n",
       "    <tr>\n",
       "      <th>1999-12-31 23:55:00</th>\n",
       "      <td>0</td>\n",
       "    </tr>\n",
       "    <tr>\n",
       "      <th>2000-01-01 00:00:00</th>\n",
       "      <td>15</td>\n",
       "    </tr>\n",
       "    <tr>\n",
       "      <th>2000-01-01 00:05:00</th>\n",
       "      <td>40</td>\n",
       "    </tr>\n",
       "    <tr>\n",
       "      <th>2000-01-01 00:10:00</th>\n",
       "      <td>65</td>\n",
       "    </tr>\n",
       "    <tr>\n",
       "      <th>2000-01-01 00:15:00</th>\n",
       "      <td>90</td>\n",
       "    </tr>\n",
       "    <tr>\n",
       "      <th>2000-01-01 00:20:00</th>\n",
       "      <td>115</td>\n",
       "    </tr>\n",
       "    <tr>\n",
       "      <th>2000-01-01 00:25:00</th>\n",
       "      <td>140</td>\n",
       "    </tr>\n",
       "    <tr>\n",
       "      <th>2000-01-01 00:30:00</th>\n",
       "      <td>165</td>\n",
       "    </tr>\n",
       "    <tr>\n",
       "      <th>2000-01-01 00:35:00</th>\n",
       "      <td>190</td>\n",
       "    </tr>\n",
       "    <tr>\n",
       "      <th>2000-01-01 00:40:00</th>\n",
       "      <td>215</td>\n",
       "    </tr>\n",
       "    <tr>\n",
       "      <th>2000-01-01 00:45:00</th>\n",
       "      <td>240</td>\n",
       "    </tr>\n",
       "    <tr>\n",
       "      <th>2000-01-01 00:50:00</th>\n",
       "      <td>265</td>\n",
       "    </tr>\n",
       "    <tr>\n",
       "      <th>2000-01-01 00:55:00</th>\n",
       "      <td>290</td>\n",
       "    </tr>\n",
       "    <tr>\n",
       "      <th>2000-01-01 01:00:00</th>\n",
       "      <td>315</td>\n",
       "    </tr>\n",
       "    <tr>\n",
       "      <th>2000-01-01 01:05:00</th>\n",
       "      <td>340</td>\n",
       "    </tr>\n",
       "    <tr>\n",
       "      <th>2000-01-01 01:10:00</th>\n",
       "      <td>365</td>\n",
       "    </tr>\n",
       "    <tr>\n",
       "      <th>2000-01-01 01:15:00</th>\n",
       "      <td>390</td>\n",
       "    </tr>\n",
       "    <tr>\n",
       "      <th>2000-01-01 01:20:00</th>\n",
       "      <td>415</td>\n",
       "    </tr>\n",
       "    <tr>\n",
       "      <th>2000-01-01 01:25:00</th>\n",
       "      <td>440</td>\n",
       "    </tr>\n",
       "    <tr>\n",
       "      <th>2000-01-01 01:30:00</th>\n",
       "      <td>465</td>\n",
       "    </tr>\n",
       "    <tr>\n",
       "      <th>2000-01-01 01:35:00</th>\n",
       "      <td>390</td>\n",
       "    </tr>\n",
       "  </tbody>\n",
       "</table>\n",
       "</div>"
      ],
      "text/plain": [
       "                      BC\n",
       "1999-12-31 23:55:00    0\n",
       "2000-01-01 00:00:00   15\n",
       "2000-01-01 00:05:00   40\n",
       "2000-01-01 00:10:00   65\n",
       "2000-01-01 00:15:00   90\n",
       "2000-01-01 00:20:00  115\n",
       "2000-01-01 00:25:00  140\n",
       "2000-01-01 00:30:00  165\n",
       "2000-01-01 00:35:00  190\n",
       "2000-01-01 00:40:00  215\n",
       "2000-01-01 00:45:00  240\n",
       "2000-01-01 00:50:00  265\n",
       "2000-01-01 00:55:00  290\n",
       "2000-01-01 01:00:00  315\n",
       "2000-01-01 01:05:00  340\n",
       "2000-01-01 01:10:00  365\n",
       "2000-01-01 01:15:00  390\n",
       "2000-01-01 01:20:00  415\n",
       "2000-01-01 01:25:00  440\n",
       "2000-01-01 01:30:00  465\n",
       "2000-01-01 01:35:00  390"
      ]
     },
     "execution_count": 30,
     "metadata": {},
     "output_type": "execute_result"
    }
   ],
   "source": [
    "df4.resample('5Min', closed='right').sum()"
   ]
  },
  {
   "cell_type": "markdown",
   "metadata": {},
   "source": [
    "# Example\n",
    "\n",
    "This example is from \n",
    "\n",
    "https://www.datacamp.com/community/tutorials/converting-strings-datetime-objects\n",
    "\n",
    "eth that contains some historical data on ether, a cryptocurrency whose blockchain is generated by the Ethereum platform. Your dataset has the following columns:\n",
    " \n",
    "date: Date, daily at 00:00 UTC.\n",
    "\n",
    "txVolume: Unadjusted measure of the total value, in US dollars, of outputs on the blockchain.\n",
    "\n",
    "txCount: Number of transactions happening on the public blockchain.\n",
    "\n",
    "marketCap: Unit price in US dollars multiplied by the number of units in circulation.\n",
    "\n",
    "price: Opening price in US dollars at 00:00 UTC.\n",
    "\n",
    "generatedCoins: Number of new coins that have been mined into existence.\n",
    "\n",
    "exchangeVolume: The volume, measured by US dollars, at exchanges like GDAX and Bitfinex.\n",
    "\n",
    "Read the dataset:"
   ]
  },
  {
   "cell_type": "code",
   "execution_count": 41,
   "metadata": {},
   "outputs": [
    {
     "data": {
      "text/html": [
       "<div>\n",
       "<style scoped>\n",
       "    .dataframe tbody tr th:only-of-type {\n",
       "        vertical-align: middle;\n",
       "    }\n",
       "\n",
       "    .dataframe tbody tr th {\n",
       "        vertical-align: top;\n",
       "    }\n",
       "\n",
       "    .dataframe thead th {\n",
       "        text-align: right;\n",
       "    }\n",
       "</style>\n",
       "<table border=\"1\" class=\"dataframe\">\n",
       "  <thead>\n",
       "    <tr style=\"text-align: right;\">\n",
       "      <th></th>\n",
       "      <th>date</th>\n",
       "      <th>txVolume(USD)</th>\n",
       "      <th>adjustedTxVolume(USD)</th>\n",
       "      <th>txCount</th>\n",
       "      <th>marketcap(USD)</th>\n",
       "      <th>price(USD)</th>\n",
       "      <th>exchangeVolume(USD)</th>\n",
       "      <th>generatedCoins</th>\n",
       "      <th>fees</th>\n",
       "      <th>activeAddresses</th>\n",
       "      <th>medianTxValue(USD)</th>\n",
       "      <th>medianFee</th>\n",
       "      <th>averageDifficulty</th>\n",
       "      <th>paymentCount</th>\n",
       "      <th>blockSize</th>\n",
       "      <th>blockCount</th>\n",
       "    </tr>\n",
       "  </thead>\n",
       "  <tbody>\n",
       "    <tr>\n",
       "      <th>0</th>\n",
       "      <td>2015-07-30</td>\n",
       "      <td>NaN</td>\n",
       "      <td>NaN</td>\n",
       "      <td>NaN</td>\n",
       "      <td>NaN</td>\n",
       "      <td>NaN</td>\n",
       "      <td>NaN</td>\n",
       "      <td>39311.09375</td>\n",
       "      <td>NaN</td>\n",
       "      <td>NaN</td>\n",
       "      <td>NaN</td>\n",
       "      <td>NaN</td>\n",
       "      <td>1.213355e+11</td>\n",
       "      <td>NaN</td>\n",
       "      <td>4449897</td>\n",
       "      <td>6911</td>\n",
       "    </tr>\n",
       "    <tr>\n",
       "      <th>1</th>\n",
       "      <td>2015-07-31</td>\n",
       "      <td>NaN</td>\n",
       "      <td>NaN</td>\n",
       "      <td>NaN</td>\n",
       "      <td>NaN</td>\n",
       "      <td>NaN</td>\n",
       "      <td>NaN</td>\n",
       "      <td>36191.71875</td>\n",
       "      <td>NaN</td>\n",
       "      <td>NaN</td>\n",
       "      <td>NaN</td>\n",
       "      <td>NaN</td>\n",
       "      <td>6.029419e+11</td>\n",
       "      <td>NaN</td>\n",
       "      <td>3994458</td>\n",
       "      <td>6863</td>\n",
       "    </tr>\n",
       "    <tr>\n",
       "      <th>2</th>\n",
       "      <td>2015-08-01</td>\n",
       "      <td>NaN</td>\n",
       "      <td>NaN</td>\n",
       "      <td>NaN</td>\n",
       "      <td>NaN</td>\n",
       "      <td>NaN</td>\n",
       "      <td>NaN</td>\n",
       "      <td>27702.18750</td>\n",
       "      <td>NaN</td>\n",
       "      <td>NaN</td>\n",
       "      <td>NaN</td>\n",
       "      <td>NaN</td>\n",
       "      <td>8.872542e+11</td>\n",
       "      <td>NaN</td>\n",
       "      <td>3044344</td>\n",
       "      <td>5293</td>\n",
       "    </tr>\n",
       "    <tr>\n",
       "      <th>3</th>\n",
       "      <td>2015-08-02</td>\n",
       "      <td>NaN</td>\n",
       "      <td>NaN</td>\n",
       "      <td>NaN</td>\n",
       "      <td>NaN</td>\n",
       "      <td>NaN</td>\n",
       "      <td>NaN</td>\n",
       "      <td>28227.18750</td>\n",
       "      <td>NaN</td>\n",
       "      <td>NaN</td>\n",
       "      <td>NaN</td>\n",
       "      <td>NaN</td>\n",
       "      <td>1.020254e+12</td>\n",
       "      <td>NaN</td>\n",
       "      <td>3112348</td>\n",
       "      <td>5358</td>\n",
       "    </tr>\n",
       "    <tr>\n",
       "      <th>4</th>\n",
       "      <td>2015-08-03</td>\n",
       "      <td>NaN</td>\n",
       "      <td>NaN</td>\n",
       "      <td>NaN</td>\n",
       "      <td>NaN</td>\n",
       "      <td>NaN</td>\n",
       "      <td>NaN</td>\n",
       "      <td>27976.71875</td>\n",
       "      <td>NaN</td>\n",
       "      <td>NaN</td>\n",
       "      <td>NaN</td>\n",
       "      <td>NaN</td>\n",
       "      <td>1.125837e+12</td>\n",
       "      <td>NaN</td>\n",
       "      <td>3099953</td>\n",
       "      <td>5280</td>\n",
       "    </tr>\n",
       "  </tbody>\n",
       "</table>\n",
       "</div>"
      ],
      "text/plain": [
       "         date  txVolume(USD)  adjustedTxVolume(USD)  txCount  marketcap(USD)  \\\n",
       "0  2015-07-30            NaN                    NaN      NaN             NaN   \n",
       "1  2015-07-31            NaN                    NaN      NaN             NaN   \n",
       "2  2015-08-01            NaN                    NaN      NaN             NaN   \n",
       "3  2015-08-02            NaN                    NaN      NaN             NaN   \n",
       "4  2015-08-03            NaN                    NaN      NaN             NaN   \n",
       "\n",
       "   price(USD)  exchangeVolume(USD)  generatedCoins  fees  activeAddresses  \\\n",
       "0         NaN                  NaN     39311.09375   NaN              NaN   \n",
       "1         NaN                  NaN     36191.71875   NaN              NaN   \n",
       "2         NaN                  NaN     27702.18750   NaN              NaN   \n",
       "3         NaN                  NaN     28227.18750   NaN              NaN   \n",
       "4         NaN                  NaN     27976.71875   NaN              NaN   \n",
       "\n",
       "   medianTxValue(USD)  medianFee  averageDifficulty  paymentCount  blockSize  \\\n",
       "0                 NaN        NaN       1.213355e+11           NaN    4449897   \n",
       "1                 NaN        NaN       6.029419e+11           NaN    3994458   \n",
       "2                 NaN        NaN       8.872542e+11           NaN    3044344   \n",
       "3                 NaN        NaN       1.020254e+12           NaN    3112348   \n",
       "4                 NaN        NaN       1.125837e+12           NaN    3099953   \n",
       "\n",
       "   blockCount  \n",
       "0        6911  \n",
       "1        6863  \n",
       "2        5293  \n",
       "3        5358  \n",
       "4        5280  "
      ]
     },
     "execution_count": 41,
     "metadata": {},
     "output_type": "execute_result"
    }
   ],
   "source": [
    "import pandas as pd\n",
    "from  datetime  import  datetime\n",
    "\n",
    "df = pd.read_csv(\"eth.csv\")\n",
    "df.head()"
   ]
  },
  {
   "cell_type": "markdown",
   "metadata": {},
   "source": [
    "And let's confirm that the date column needs to be converted:\n"
   ]
  },
  {
   "cell_type": "code",
   "execution_count": 42,
   "metadata": {},
   "outputs": [
    {
     "data": {
      "text/plain": [
       "pandas.core.series.Series"
      ]
     },
     "execution_count": 42,
     "metadata": {},
     "output_type": "execute_result"
    }
   ],
   "source": [
    "type(df.date)"
   ]
  },
  {
   "cell_type": "markdown",
   "metadata": {},
   "source": [
    "change the date column to datetime"
   ]
  },
  {
   "cell_type": "code",
   "execution_count": 43,
   "metadata": {},
   "outputs": [
    {
     "name": "stdout",
     "output_type": "stream",
     "text": [
      "<class 'pandas.core.frame.DataFrame'>\n",
      "RangeIndex: 1229 entries, 0 to 1228\n",
      "Data columns (total 16 columns):\n",
      "date                     1229 non-null datetime64[ns]\n",
      "txVolume(USD)            1221 non-null float64\n",
      "adjustedTxVolume(USD)    1221 non-null float64\n",
      "txCount                  1221 non-null float64\n",
      "marketcap(USD)           1221 non-null float64\n",
      "price(USD)               1221 non-null float64\n",
      "exchangeVolume(USD)      1221 non-null float64\n",
      "generatedCoins           1229 non-null float64\n",
      "fees                     1221 non-null float64\n",
      "activeAddresses          1221 non-null float64\n",
      "medianTxValue(USD)       1221 non-null float64\n",
      "medianFee                1221 non-null float64\n",
      "averageDifficulty        1229 non-null float64\n",
      "paymentCount             1221 non-null float64\n",
      "blockSize                1229 non-null int64\n",
      "blockCount               1229 non-null int64\n",
      "dtypes: datetime64[ns](1), float64(13), int64(2)\n",
      "memory usage: 153.7 KB\n"
     ]
    }
   ],
   "source": [
    "df['date'] =  pd.to_datetime(df['date'])\n",
    "df.info()"
   ]
  },
  {
   "cell_type": "markdown",
   "metadata": {},
   "source": [
    "Now that you have datetime objects as your date column, you can extract specific components of the date such as the month, day, or year, all of which are available as the object's attributes:"
   ]
  },
  {
   "cell_type": "code",
   "execution_count": 44,
   "metadata": {},
   "outputs": [
    {
     "name": "stdout",
     "output_type": "stream",
     "text": [
      "7\n",
      "30\n",
      "2015\n"
     ]
    }
   ],
   "source": [
    "print(df['date'][0].month)\n",
    "print(df['date'][0].day)\n",
    "print(df['date'][0].year)"
   ]
  },
  {
   "cell_type": "markdown",
   "metadata": {},
   "source": [
    "Date attributes are frequently used to group data by a particular time frame. For example, you can see how many ethers were generated on a yearly basis:"
   ]
  },
  {
   "cell_type": "code",
   "execution_count": 46,
   "metadata": {},
   "outputs": [
    {
     "name": "stdout",
     "output_type": "stream",
     "text": [
      "Using matplotlib backend: MacOSX\n",
      "defaultdict(<class 'float'>, {2015: nan, 2016: 3573.5235900000002, 2017: 81006.38000000002, 2018: 174756.5999999999})\n"
     ]
    }
   ],
   "source": [
    "%matplotlib\n",
    "from collections import defaultdict\n",
    "import matplotlib.pyplot as plt\n",
    "\n",
    "# Initialize defaultdict of type float\n",
    "yearly_total_coins = defaultdict(float)\n",
    "\n",
    "# Loop over the rows of eth\n",
    "for day in df.iterrows():\n",
    "    # Get the date\n",
    "    dates = day[1][0]\n",
    "\n",
    "    # Get the number of coins generated\n",
    "    num_coins = day[1][5]\n",
    "\n",
    "    # Add the total number of coins to the current value for the year\n",
    "    yearly_total_coins[dates.year] += num_coins\n",
    "\n",
    "# Print yearly_total_coins\n",
    "print(yearly_total_coins)\n",
    "\n",
    "# Visualize aggregated data\n",
    "plt.bar(range(len(yearly_total_coins)), list(yearly_total_coins.values()), align='center')\n",
    "plt.xticks(range(len(yearly_total_coins)), list(yearly_total_coins.keys()))\n",
    "plt.title('# of ethers generated by year')\n",
    "plt.show()\n",
    "\n"
   ]
  },
  {
   "cell_type": "code",
   "execution_count": null,
   "metadata": {},
   "outputs": [],
   "source": []
  }
 ],
 "metadata": {
  "kernelspec": {
   "display_name": "Python 3",
   "language": "python",
   "name": "python3"
  },
  "language_info": {
   "codemirror_mode": {
    "name": "ipython",
    "version": 3
   },
   "file_extension": ".py",
   "mimetype": "text/x-python",
   "name": "python",
   "nbconvert_exporter": "python",
   "pygments_lexer": "ipython3",
   "version": "3.6.8"
  }
 },
 "nbformat": 4,
 "nbformat_minor": 2
}
