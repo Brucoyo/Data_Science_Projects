{
 "cells": [
  {
   "cell_type": "markdown",
   "metadata": {},
   "source": [
    "# Data wrangling lab 1\n",
    "In this lab, you will experiemnt how to explore and analyze your data with a data wrangling tool, as well as performing some functions on NumPy arrays. \n",
    "\n",
    "**The questions that you should answer for Data wrangler tool are typed in bold and specified with numbers.**"
   ]
  },
  {
   "cell_type": "markdown",
   "metadata": {},
   "source": [
    "## Data wrangler tool (40 point)\n",
    "Go to the Trifacta website: https://www.trifacta.com and sign up to use the free version of the tool. Find \"Free Wrangler\" button to proceed."
   ]
  },
  {
   "cell_type": "markdown",
   "metadata": {},
   "source": [
    "### Import data\n",
    "Explore various options that Trifacta provides to transfoRM your data. \n",
    "\n",
    "1- Import the flight_delay_2017.csv dataset to the tool. This is an open dataset from https://www.transtats.bts.gov/DL_SelectFields.asp?Table_ID=236. \n",
    "\n",
    "2- Take a look at the data and the data fields. You can find the description of each column name (feature) in the provided link from transtats.bts.gov. You need to learn about the features and the meaning of each column and the values in order to be able to analyze the data.\n"
   ]
  },
  {
   "cell_type": "markdown",
   "metadata": {},
   "source": [
    "### Explore data\n",
    "\n",
    "3- Take a look at the data type and distribution of each feature.\n",
    "\n",
    "4- Make any changes that should be done for the analysis. For example, if a date feature is treated as integer, you can easily change the type to DataTime in the wrangler tool.\n",
    "\n",
    "5- Explore the missing values for each feature. Is there missing values? Do they need to be replaced by some values? Do you need to eliminate the records that have missing values?\n",
    "\n",
    "Answer: \n",
    "1. **Is there any changes required for the data type of features (columns)?** (2 points)"
   ]
  },
  {
   "cell_type": "markdown",
   "metadata": {},
   "source": [
    "## Changes for the data type\n",
    "1. data type of OP_CARRIER_AIRLINE_ID should be string instead of zip.       \n",
    "2. data type of ORIGIN_AIRPORT_ID should be string instead of zip.           \n",
    "3. data type of ORIGIN_AIRPORT_SEQ_ID should be string instead of number.    \n",
    "4. data type of ORIGIN_CITY_MARKET_ID should be string instead of zip.       \n",
    "5. data type of ORIGIN_WAC should be string instead of number.               \n",
    "6. data type of DEST_AIRPORT_ID should be string instead of zip.             \n",
    "7. data type of DEST_AIRPORT_SEQ_ID should be string instead of number.      \n",
    "8. data type of DEST_CITY_MARKET_ID should be string instead of zip.         \n",
    "9. data type of DEST_WAC should be string instead of number.                 \n",
    "10. data type of CANCELLED should be boolean instead of decimal.             "
   ]
  },
  {
   "cell_type": "markdown",
   "metadata": {},
   "source": [
    "2. **Is there any missing values? Shoule be replace/manipulate/delete them? Why?**  (3 points)\n",
    "\n",
    "#### Q2 Yes, there are some missing values. In real world, it may happens if there are some missing values. So just set them to null because we don't have them in record. If we set them as 0 it will affect the final results."
   ]
  },
  {
   "cell_type": "markdown",
   "metadata": {},
   "source": [
    "### Analyze data\n",
    "\n",
    "6- Let's run some basic analysis to get an understanding of the major causes of flight delays in each MONTH of the year. Explore the top toolbar and sum over the number of minutes that flights are delayed due to CARRIER_DELAY, WEATHER_DELAY, NAS_DELAY, SECURITY_DELAY, or LATE_AIRCRAFT_DELAY separetely. \n",
    "Answer the following questions:\n",
    "3. **What is the maximum flight delay in minutes for each of the delay features CARRIER_DELAY, WEATHER_DELAY, NAS_DELAY, SECURITY_DELAY, or LATE_AIRCRAFT_DELAY?** (3 points)\n",
    "\n",
    "#### Q3 the maximum flight delay in minutes for each of the following: this can be read on the top of each column.\n",
    "#### CARRIER_DELAY: 1315 minutes\n",
    "#### WEATHER_DELAY: 1329 minutes\n",
    "#### NAS_DELAY: 1457 minutes\n",
    "#### SECURITY_DELAY:  250 minutes\n",
    "#### LATE_AIRCRAFT_DELAY: 1333 minutes\n",
    "\n",
    "4. **Accumulate over each delay cause separately and find out which of the CARRIER_DELAY, WEATHER_DELAY, NAS_DELAY, SECURITY_DELAY, or LATE_AIRCRAFT_DELAY has caused more delays in minutes?** (4 points)\n",
    "\n",
    "#### Q4 CARRIER_DELAY (398.22 K minutes) caused more delays in minutes.\n",
    "\n",
    "5. **What is the sum of minutes that each of CARRIER_DELAY, WEATHER_DELAY, NAS_DELAY, SECURITY_DELAY, or LATE_AIRCRAFT_DELAY has caused and delayed flights?** (4 points)\n",
    "\n",
    "#### Q5 sum of minutes delayed\n",
    "#### sum(CARRIER_DELAY): 398.22 K minutes\n",
    "#### sum(WEATHER_DELAY): 48750 minutes\n",
    "#### sum(NAS_DELAY): 300.86 K minutes\n",
    "#### sum(SECURITY_DELAY): 1599 minutes\n",
    "#### sum(LATE_AIRCRAFT_DELAY): 341.78 K minutes\n",
    "\n",
    "6. **What is the average delay minutes for each of the delay causes CARRIER_DELAY, WEATHER_DELAY, NAS_DELAY, SECURITY_DELAY, or LATE_AIRCRAFT_DELAY?** (4 points)\n",
    "\n",
    "#### Q6 average delay in minutes (in 2 decimal)\n",
    "#### average(CARRIER_DELAY):  24.75 minutes\n",
    "#### average(WEATHER_DELAY):  3.03 minutes\n",
    "#### average(NAS_DELAY):  18.70 minutes\n",
    "#### average(SECURITY_DELAY): 0.10 minutes\n",
    "#### average(LATE_AIRCRAFT_DELAY): 21.24 minutes"
   ]
  },
  {
   "cell_type": "markdown",
   "metadata": {},
   "source": [
    "7- Specify the analysis in more details by including the delay departure for each origin city. Remember that DEP_DELAY is the Difference in minutes between scheduled and actual departure time. And, Early departures show negative numbers.\n",
    "\n",
    "#### just top 10\n",
    "\n",
    "7. **What is the total delay departure (DEP_DELAY) for each origin airport (ORIGIN)?** (4 points)\n",
    "\n",
    "#### group by (ORIGIN) Values sum(DEP_DELAY)\n",
    "\n",
    "|ORIGIN | sum_DEP_DELAY|\n",
    "| --- | ---|\n",
    "| ATL |65297\n",
    "| LAX |61953\n",
    "| ORD |39193\n",
    "| SLC |35223\n",
    "| DEN |34501\n",
    "| SFO |33530\n",
    "| DFW |31210\n",
    "| JFK |30296\n",
    "| MSP |26179\n",
    "| FLL |26042\n",
    "\n",
    "8. **What is the total delay departure (DEP_DELAY) for each origin city (ORIGIN_CITY_NAME)?** (4 points)\n",
    "\n",
    "#### group by (ORIGIN_CITY_NAME) sum(DEP_DELAY)\n",
    "\n",
    "ORIGIN_CITY_NAME | sum_DEP_DELAY\n",
    " --- | ---\n",
    "Atlanta,·GA       |65297\n",
    "Los·Angeles,·CA   |61953\n",
    "Chicago,·IL       |40291\n",
    "New·York,·NY      |40241\n",
    "Salt·Lake·City,·UT|35223\n",
    "Denver,·CO        |34501\n",
    "San·Francisco,·CA |33530\n",
    "Dallas/Fort·Worth,·TX|31210\n",
    "Minneapolis,·MN      |26179\n",
    "Fort·Lauderdale,·FL  |26042\n",
    "\n",
    "\n",
    "9. **What is the average delay departure (DEP_DELAY) for each origin airport (ORIGIN)?** (4 points)\n",
    "\n",
    "#### group by (ORIGIN) average (DEP_DELAY)\n",
    "\n",
    "ORIGIN | average_DEP_DELAY\n",
    "--- |---\n",
    "MFR|68.1372549019608\n",
    "MOT|67.14285714285714\n",
    "RDD|66.38095238095238\n",
    "JAC|61.39583333333333\n",
    "HDN|45.25806451612904\n",
    "GCC|44.52173913043478\n",
    "ASE|43.43617021276596\n",
    "CMX|39.85714285714286\n",
    "HRL|38\n",
    "RDM|35.49090909090909\n",
    "\n",
    "10. **What is the average delay departure (DEP_DELAY) for each origin city (ORIGIN_CITY_NAME)?** (4 points)\n",
    "\n",
    "#### group by (ORIGIN_CITY_NAME) average (DEP_DELAY)\n",
    "\n",
    "ORIGIN_CITY_NAME | sum_DEP_DELAY\n",
    " --- | ---\n",
    "Medford,·OR|68.1372549019608\n",
    "Minot,·ND|67.14285714285712\n",
    "Redding,·CA|66.38095238095238\n",
    "Jackson,·WY|61.395833333333286\n",
    "Hayden,·CO|45.258064516129025\n",
    "Gillette,·WY|44.52173913043478\n",
    "Aspen,·CO|43.43617021276597\n",
    "Hancock/Houghton,·MI|39.85714285714287\n",
    "Harlingen/San·Benito,·TX|38\n",
    "Bend/Redmond,·OR|35.49090909090907\n",
    "\n",
    "11. **What is the ORIGIN airport that has the highest number for the DEP_DELAY? Use Sort option to get results.** (4 points)\n",
    "\n",
    "#### ATL airport (ORIGIN) has the highest number for the DEP_DELAY (5924) \n",
    "\n",
    "Remember that: \n",
    "- you always can create a new column and store the results. \n",
    "- you can use any of the options in the wrangler toolbar to get some results.\n",
    "- grouping might be a choice for some analytics. "
   ]
  },
  {
   "cell_type": "markdown",
   "metadata": {},
   "source": [
    "For this part, wtite and execute your code. "
   ]
  },
  {
   "cell_type": "markdown",
   "metadata": {},
   "source": [
    "# NumPy Arrays (60 points)\n",
    "\n",
    "NumPy arrays are said be more efficient when performing operations on numbers. Are they really?\n",
    "\n",
    "Let's try a basic example. Note the using time() is not the best way to profile the execution time of your program. \n",
    "\n",
    "First, import numpy arrays as np and then run the following code. "
   ]
  },
  {
   "cell_type": "code",
   "execution_count": 90,
   "metadata": {},
   "outputs": [
    {
     "name": "stdout",
     "output_type": "stream",
     "text": [
      "341 µs ± 4.59 µs per loop (mean ± std. dev. of 7 runs, 1000 loops each)\n"
     ]
    }
   ],
   "source": [
    "l = range(1000)\n",
    "l\n",
    "%timeit [i**2 for i in l]"
   ]
  },
  {
   "cell_type": "code",
   "execution_count": 91,
   "metadata": {},
   "outputs": [
    {
     "name": "stdout",
     "output_type": "stream",
     "text": [
      "1.35 µs ± 13.1 ns per loop (mean ± std. dev. of 7 runs, 1000000 loops each)\n"
     ]
    }
   ],
   "source": [
    "import numpy as np\n",
    "a = np.arange(1000)\n",
    "a\n",
    "%timeit a**2"
   ]
  },
  {
   "cell_type": "markdown",
   "metadata": {},
   "source": [
    "1. **What do you conclude? Which one has less execution time?** (1 point)"
   ]
  },
  {
   "cell_type": "markdown",
   "metadata": {},
   "source": [
    "#### when execute with numpy (np) function, it is showing much less time than  non-numpy function. \n",
    "\n",
    "#### in this case, numpy is much more efficient. It only takes only 1.35 µs ± 13.1 ns per loop (mean ± std. dev. of 7 runs, 1000000 loops each) than non-numpy function 341 µs ± 4.59 µs per loop (mean ± std. dev. of 7 runs, 1000 loops each) while numpy function has even 1000 times more loops."
   ]
  },
  {
   "cell_type": "markdown",
   "metadata": {},
   "source": [
    "2. **What does the above code do?**  (1 point)"
   ]
  },
  {
   "cell_type": "markdown",
   "metadata": {},
   "source": [
    "### l = range(1000)\n",
    "#### l creates a range (0,1000)\n",
    "#### timeit function is the execution time cost for i**2 in 1000 numbers using a for loop"
   ]
  },
  {
   "cell_type": "markdown",
   "metadata": {},
   "source": [
    "#### create a np.arrange (1000)\n",
    "#### timeit function is the execution time cost for power of 2 in the 1000 numbers"
   ]
  },
  {
   "cell_type": "markdown",
   "metadata": {},
   "source": [
    "3. Create an identity matrix of size 5 (https://en.wikipedia.org/wiki/Identity_matrix) in NumPy.  (3 point)\n",
    "\n"
   ]
  },
  {
   "cell_type": "code",
   "execution_count": 2,
   "metadata": {},
   "outputs": [
    {
     "data": {
      "text/plain": [
       "array([[1., 0., 0., 0., 0.],\n",
       "       [0., 1., 0., 0., 0.],\n",
       "       [0., 0., 1., 0., 0.],\n",
       "       [0., 0., 0., 1., 0.],\n",
       "       [0., 0., 0., 0., 1.]])"
      ]
     },
     "execution_count": 2,
     "metadata": {},
     "output_type": "execute_result"
    }
   ],
   "source": [
    "import numpy as np\n",
    "x1=np.eye(5)\n",
    "x1"
   ]
  },
  {
   "cell_type": "markdown",
   "metadata": {},
   "source": [
    "4. Create a diagonal matrix of size 5 in NumPy. Use **np.diag?** to view the signature of the function. The diagonal should include numbers: 1, 2, 3, 4, 5.   (3 point)\n",
    "\n"
   ]
  },
  {
   "cell_type": "code",
   "execution_count": 9,
   "metadata": {},
   "outputs": [
    {
     "data": {
      "text/plain": [
       "array([[1, 0, 0, 0, 0],\n",
       "       [0, 2, 0, 0, 0],\n",
       "       [0, 0, 3, 0, 0],\n",
       "       [0, 0, 0, 4, 0],\n",
       "       [0, 0, 0, 0, 5]])"
      ]
     },
     "execution_count": 9,
     "metadata": {},
     "output_type": "execute_result"
    }
   ],
   "source": [
    "x2=np.diag([1,2,3,4,5])\n",
    "x2"
   ]
  },
  {
   "cell_type": "markdown",
   "metadata": {},
   "source": [
    "5. Add two arrays together and name is sum.   (3 point)\n",
    "\n"
   ]
  },
  {
   "cell_type": "code",
   "execution_count": 10,
   "metadata": {},
   "outputs": [
    {
     "data": {
      "text/plain": [
       "array([[2., 0., 0., 0., 0.],\n",
       "       [0., 3., 0., 0., 0.],\n",
       "       [0., 0., 4., 0., 0.],\n",
       "       [0., 0., 0., 5., 0.],\n",
       "       [0., 0., 0., 0., 6.]])"
      ]
     },
     "execution_count": 10,
     "metadata": {},
     "output_type": "execute_result"
    }
   ],
   "source": [
    "sum=x1+x2\n",
    "sum"
   ]
  },
  {
   "cell_type": "markdown",
   "metadata": {},
   "source": [
    "6. What is the power 3 of sum array?  (3 point)"
   ]
  },
  {
   "cell_type": "code",
   "execution_count": 11,
   "metadata": {},
   "outputs": [
    {
     "data": {
      "text/plain": [
       "array([[  8.,   0.,   0.,   0.,   0.],\n",
       "       [  0.,  27.,   0.,   0.,   0.],\n",
       "       [  0.,   0.,  64.,   0.,   0.],\n",
       "       [  0.,   0.,   0., 125.,   0.],\n",
       "       [  0.,   0.,   0.,   0., 216.]])"
      ]
     },
     "execution_count": 11,
     "metadata": {},
     "output_type": "execute_result"
    }
   ],
   "source": [
    "sum*sum*sum"
   ]
  },
  {
   "cell_type": "markdown",
   "metadata": {},
   "source": [
    "7. Create an array of size (6, 6) and fill it with numbers from 0 to 36 and name it a.   (3 point)"
   ]
  },
  {
   "cell_type": "code",
   "execution_count": 100,
   "metadata": {},
   "outputs": [
    {
     "data": {
      "text/plain": [
       "array([[ 0,  1,  2,  3,  4,  5],\n",
       "       [ 6,  7,  8,  9, 10, 11],\n",
       "       [12, 13, 14, 15, 16, 17],\n",
       "       [18, 19, 20, 21, 22, 23],\n",
       "       [24, 25, 26, 27, 28, 29],\n",
       "       [30, 31, 32, 33, 34, 35]])"
      ]
     },
     "execution_count": 100,
     "metadata": {},
     "output_type": "execute_result"
    }
   ],
   "source": [
    "a=np.arange(0,36).reshape(6,6)\n",
    "a"
   ]
  },
  {
   "cell_type": "markdown",
   "metadata": {},
   "source": [
    "8. Write code that selects these elements from the array a: 18, 20, 23, 24, 26, 29, 30, 32, 35.   (3 point)"
   ]
  },
  {
   "cell_type": "code",
   "execution_count": 102,
   "metadata": {},
   "outputs": [
    {
     "data": {
      "text/plain": [
       "[18, 20, 23, 24, 26, 29, 30, 32, 35]"
      ]
     },
     "execution_count": 102,
     "metadata": {},
     "output_type": "execute_result"
    }
   ],
   "source": [
    "Q8=[a[3,0],a[3,2],a[3,5],a[4,0],a[4,2],a[4,5],a[5,0],a[5,2],a[5,5]]\n",
    "Q8"
   ]
  },
  {
   "cell_type": "markdown",
   "metadata": {},
   "source": [
    "9. Create a random vector of size 30 and find the mean value.   (3 point)"
   ]
  },
  {
   "cell_type": "code",
   "execution_count": 5,
   "metadata": {},
   "outputs": [
    {
     "data": {
      "text/plain": [
       "44.46666666666667"
      ]
     },
     "execution_count": 5,
     "metadata": {},
     "output_type": "execute_result"
    }
   ],
   "source": [
    "Q9=np.random.randint(low=0, high=100,size=30)\n",
    "m=Q9.mean()\n",
    "m"
   ]
  },
  {
   "cell_type": "markdown",
   "metadata": {},
   "source": [
    "10. Create a 5x5 matrix with values 1,2,3,4 just below the diagonal.   (3 point)"
   ]
  },
  {
   "cell_type": "code",
   "execution_count": 24,
   "metadata": {},
   "outputs": [
    {
     "data": {
      "text/plain": [
       "array([[0, 0, 0, 0, 0],\n",
       "       [1, 0, 0, 0, 0],\n",
       "       [0, 2, 0, 0, 0],\n",
       "       [0, 0, 3, 0, 0],\n",
       "       [0, 0, 0, 4, 0]])"
      ]
     },
     "execution_count": 24,
     "metadata": {},
     "output_type": "execute_result"
    }
   ],
   "source": [
    "Q10=np.diag(1+np.arange(4),k=-1)\n",
    "Q10"
   ]
  },
  {
   "cell_type": "markdown",
   "metadata": {},
   "source": [
    "11. Create a 8x8 matrix and fill it with a checkerboard pattern. Use zero and one to represent black and white respectively.   (3 point)"
   ]
  },
  {
   "cell_type": "code",
   "execution_count": 35,
   "metadata": {},
   "outputs": [
    {
     "data": {
      "text/plain": [
       "array([[0, 1, 0, 1, 0, 1, 0, 1],\n",
       "       [1, 0, 1, 0, 1, 0, 1, 0],\n",
       "       [0, 1, 0, 1, 0, 1, 0, 1],\n",
       "       [1, 0, 1, 0, 1, 0, 1, 0],\n",
       "       [0, 1, 0, 1, 0, 1, 0, 1],\n",
       "       [1, 0, 1, 0, 1, 0, 1, 0],\n",
       "       [0, 1, 0, 1, 0, 1, 0, 1],\n",
       "       [1, 0, 1, 0, 1, 0, 1, 0]])"
      ]
     },
     "execution_count": 35,
     "metadata": {},
     "output_type": "execute_result"
    }
   ],
   "source": [
    "Q11 = np.zeros((8,8),dtype=int)\n",
    "Q11[1::2,::2] = 1\n",
    "Q11[::2,1::2] = 1\n",
    "Q11"
   ]
  },
  {
   "cell_type": "markdown",
   "metadata": {},
   "source": [
    "12. Create a checkerboard 8x8 matrix using the tile function.   (3 point)"
   ]
  },
  {
   "cell_type": "code",
   "execution_count": 29,
   "metadata": {},
   "outputs": [
    {
     "data": {
      "text/plain": [
       "array([[0, 1, 0, 1, 0, 1, 0, 1],\n",
       "       [1, 0, 1, 0, 1, 0, 1, 0],\n",
       "       [0, 1, 0, 1, 0, 1, 0, 1],\n",
       "       [1, 0, 1, 0, 1, 0, 1, 0],\n",
       "       [0, 1, 0, 1, 0, 1, 0, 1],\n",
       "       [1, 0, 1, 0, 1, 0, 1, 0],\n",
       "       [0, 1, 0, 1, 0, 1, 0, 1],\n",
       "       [1, 0, 1, 0, 1, 0, 1, 0]])"
      ]
     },
     "execution_count": 29,
     "metadata": {},
     "output_type": "execute_result"
    }
   ],
   "source": [
    "Q12=np.tile(np.array([[0,1],[1,0]]),(4,4))\n",
    "Q12"
   ]
  },
  {
   "cell_type": "markdown",
   "metadata": {},
   "source": [
    "Create two matrices of size 5x3 and 3x2 using ones. \n",
    "13. Multiply a 5x3 matrix by a 3x2 matrix (real matrix product).   (3 point)\n",
    "\n",
    "Hint: Use dot function. "
   ]
  },
  {
   "cell_type": "code",
   "execution_count": 36,
   "metadata": {},
   "outputs": [
    {
     "data": {
      "text/plain": [
       "array([[3., 3.],\n",
       "       [3., 3.],\n",
       "       [3., 3.],\n",
       "       [3., 3.],\n",
       "       [3., 3.]])"
      ]
     },
     "execution_count": 36,
     "metadata": {},
     "output_type": "execute_result"
    }
   ],
   "source": [
    "Q13=np.dot(np.ones((5,3)),np.ones((3,2)))\n",
    "Q13"
   ]
  },
  {
   "cell_type": "markdown",
   "metadata": {},
   "source": [
    "14. Create a vector of size 10 with values ranging from 0 to 1, both excluded.  (3 point)"
   ]
  },
  {
   "cell_type": "code",
   "execution_count": 39,
   "metadata": {},
   "outputs": [
    {
     "data": {
      "text/plain": [
       "array([0.09090909, 0.18181818, 0.27272727, 0.36363636, 0.45454545,\n",
       "       0.54545455, 0.63636364, 0.72727273, 0.81818182, 0.90909091])"
      ]
     },
     "execution_count": 39,
     "metadata": {},
     "output_type": "execute_result"
    }
   ],
   "source": [
    "Q14=np.linspace(0,1,12,endpoint=True)[1:-1]\n",
    "Q14"
   ]
  },
  {
   "cell_type": "markdown",
   "metadata": {},
   "source": [
    "15. Create a random vector of size 10 and sort it.   (3 point)"
   ]
  },
  {
   "cell_type": "code",
   "execution_count": 52,
   "metadata": {},
   "outputs": [
    {
     "data": {
      "text/plain": [
       "array([0.11737871, 0.14727304, 0.25184204, 0.29400238, 0.29763417,\n",
       "       0.31443203, 0.63974115, 0.79688303, 0.95132503, 0.97047879])"
      ]
     },
     "execution_count": 52,
     "metadata": {},
     "output_type": "execute_result"
    }
   ],
   "source": [
    "Q15=np.random.random(10)\n",
    "Q15.sort()\n",
    "Q15"
   ]
  },
  {
   "cell_type": "markdown",
   "metadata": {},
   "source": [
    "16. Create random vector of size 10 and replace the maximum value by 0.  (3 point)"
   ]
  },
  {
   "cell_type": "code",
   "execution_count": 61,
   "metadata": {},
   "outputs": [
    {
     "data": {
      "text/plain": [
       "array([0.65365318, 0.15978733, 0.74638866, 0.80518589, 0.36996633,\n",
       "       0.        , 0.03070098, 0.60315126, 0.45225449, 0.77127741])"
      ]
     },
     "execution_count": 61,
     "metadata": {},
     "output_type": "execute_result"
    }
   ],
   "source": [
    "Q16=np.random.random(10)\n",
    "Q16[Q16.argmax()]=0\n",
    "Q16"
   ]
  },
  {
   "cell_type": "markdown",
   "metadata": {},
   "source": [
    "17. Print the minimum and maximum representable value for each numpy scalar type. (for int32 and int64 as well as float 32 and float 64.   (3 point)"
   ]
  },
  {
   "cell_type": "code",
   "execution_count": 110,
   "metadata": {},
   "outputs": [
    {
     "name": "stdout",
     "output_type": "stream",
     "text": [
      "minimum representable value: -2147483648 <class 'numpy.int32'>\n",
      "maximum representable value: 2147483647 <class 'numpy.int32'>\n",
      "minimum representable value: -9223372036854775808 <class 'numpy.int64'>\n",
      "maximum representable value: 9223372036854775807 <class 'numpy.int64'>\n",
      "minimum representable value: -3.4028235e+38 <class 'numpy.float32'>\n",
      "maximum representable value: 3.4028235e+38 <class 'numpy.float32'>\n",
      "1.1920929e-07\n",
      "minimum representable value: -1.7976931348623157e+308 <class 'numpy.float64'>\n",
      "maximum representable value: 1.7976931348623157e+308 <class 'numpy.float64'>\n",
      "2.220446049250313e-16\n"
     ]
    }
   ],
   "source": [
    "for dtype in [np.int32, np.int64]:\n",
    "   print(\"minimum representable value:\",np.iinfo(dtype).min, dtype)\n",
    "   print(\"maximum representable value:\",np.iinfo(dtype).max,dtype)\n",
    "for dtype in [np.float32, np.float64]:\n",
    "    print(\"minimum representable value:\", np.finfo(dtype).min,dtype)\n",
    "    print(\"maximum representable value:\",np.finfo(dtype).max,dtype)\n",
    "    print(np.finfo(dtype).eps)"
   ]
  },
  {
   "cell_type": "markdown",
   "metadata": {},
   "source": [
    "18. Considering a four dimensions array, how to get sum over the last two axis at once?   (3 point)\n",
    "\n",
    "hint: Create a random interger array. Dimensionas are 3x4x3x4."
   ]
  },
  {
   "cell_type": "code",
   "execution_count": 77,
   "metadata": {},
   "outputs": [
    {
     "data": {
      "text/plain": [
       "array([[38, 54, 38, 78],\n",
       "       [46, 36, 51, 51],\n",
       "       [52, 83, 59, 51]])"
      ]
     },
     "execution_count": 77,
     "metadata": {},
     "output_type": "execute_result"
    }
   ],
   "source": [
    "Q18=np.random.randint(0,10,(3,4,3,4))\n",
    "Q18sum=Q18.reshape(Q18.shape[:-2]+(-1,)).sum(axis=-1)\n",
    "Q18sum"
   ]
  },
  {
   "cell_type": "markdown",
   "metadata": {},
   "source": [
    "19. Consider the vector [1, 2, 3, 4, 5], how to build a new vector with 3 consecutive zeros interleaved between each value?   (5 point)"
   ]
  },
  {
   "cell_type": "code",
   "execution_count": 86,
   "metadata": {},
   "outputs": [
    {
     "data": {
      "text/plain": [
       "array([1., 0., 0., 0., 2., 0., 0., 0., 3., 0., 0., 0., 4., 0., 0., 0., 5.])"
      ]
     },
     "execution_count": 86,
     "metadata": {},
     "output_type": "execute_result"
    }
   ],
   "source": [
    "Q = np.array([1,2,3,4,5])\n",
    "nz = 3\n",
    "Q19 = np.zeros(len(Z) + (len(Z)-1)*(nz))\n",
    "Q19[::nz+1] = Q\n",
    "Q19"
   ]
  },
  {
   "cell_type": "markdown",
   "metadata": {},
   "source": [
    "20. How to swap the first two rows of an array?   (5 point)"
   ]
  },
  {
   "cell_type": "code",
   "execution_count": 30,
   "metadata": {},
   "outputs": [
    {
     "name": "stdout",
     "output_type": "stream",
     "text": [
      "[[ 5  6  7  8  9]\n",
      " [ 0  1  2  3  4]\n",
      " [10 11 12 13 14]\n",
      " [15 16 17 18 19]\n",
      " [20 21 22 23 24]]\n"
     ]
    }
   ],
   "source": [
    "## answer\n",
    "A = np.arange(25).reshape(5,5)\n",
    "A[[1,0]]=A[[0,1]]\n",
    "#print(A[[1,0]])\n",
    "print(A)"
   ]
  }
 ],
 "metadata": {
  "kernelspec": {
   "display_name": "Python 3",
   "language": "python",
   "name": "python3"
  },
  "language_info": {
   "codemirror_mode": {
    "name": "ipython",
    "version": 3
   },
   "file_extension": ".py",
   "mimetype": "text/x-python",
   "name": "python",
   "nbconvert_exporter": "python",
   "pygments_lexer": "ipython3",
   "version": "3.6.8"
  }
 },
 "nbformat": 4,
 "nbformat_minor": 2
}
